{
 "cells": [
  {
   "cell_type": "markdown",
   "metadata": {},
   "source": [
    "### 세마포어"
   ]
  },
  {
   "cell_type": "code",
   "execution_count": 84,
   "metadata": {},
   "outputs": [
    {
     "name": "stdout",
     "output_type": "stream",
     "text": [
      "획득: 스레드 0 | 스레드 풀: ['스레드 0']\n",
      "획득: 스레드 1 | 스레드 풀: ['스레드 0', '스레드 1']\n",
      "획득: 스레드 2 | 스레드 풀: ['스레드 0', '스레드 1', '스레드 2']\n",
      "획득: 스레드 3 | 스레드 풀: ['스레드 0', '스레드 1', '스레드 2', '스레드 3']\n",
      "반환: 스레드 0 | 스레드 풀: ['스레드 1', '스레드 2', '스레드 3']\n",
      "획득: 스레드 4 | 스레드 풀: ['스레드 1', '스레드 2', '스레드 3', '스레드 4']\n",
      "반환: 스레드 1 | 스레드 풀: ['스레드 2', '스레드 3', '스레드 4']\n",
      "획득: 스레드 5 | 스레드 풀: ['스레드 2', '스레드 3', '스레드 4', '스레드 5']\n",
      "반환: 스레드 3 | 스레드 풀: ['스레드 2', '스레드 4', '스레드 5']\n",
      "반환: 스레드 2 | 스레드 풀: ['스레드 4', '스레드 5']\n",
      "획득: 스레드 6 | 스레드 풀: ['스레드 4', '스레드 5', '스레드 6']\n",
      "획득: 스레드 7 | 스레드 풀: ['스레드 4', '스레드 5', '스레드 6', '스레드 7']\n",
      "반환: 스레드 4 | 스레드 풀: ['스레드 5', '스레드 6', '스레드 7']\n",
      "획득: 스레드 8 | 스레드 풀: ['스레드 5', '스레드 6', '스레드 7', '스레드 8']\n",
      "반환: 스레드 5 | 스레드 풀: ['스레드 6', '스레드 7', '스레드 8']\n",
      "획득: 스레드 9 | 스레드 풀: ['스레드 6', '스레드 7', '스레드 8', '스레드 9']\n",
      "반환: 스레드 6 | 스레드 풀: ['스레드 7', '스레드 8', '스레드 9']\n",
      "반환: 스레드 7 | 스레드 풀: ['스레드 8', '스레드 9']\n",
      "반환: 스레드 8 | 스레드 풀: ['스레드 9']\n",
      "반환: 스레드 9 | 스레드 풀: []\n"
     ]
    }
   ],
   "source": [
    "import threading\n",
    "import time\n",
    "\n",
    "class ThreadPool(object):\n",
    "    def __init__(self):\n",
    "        self.active = []\n",
    "        self.lock = threading.Lock()\n",
    "        \n",
    "    def acquire(self, name):\n",
    "        with self.lock:\n",
    "            self.active.append(name)\n",
    "            print(\"획득: {0} | 스레드 풀: {1}\".format(name, self.active))\n",
    "            \n",
    "    def release(self, name):\n",
    "        with self.lock:\n",
    "            self.active.remove(name)\n",
    "            print(\"반환: {0} | 스레드 풀: {1}\".format(name, self.active))\n",
    "            \n",
    "\n",
    "def worker( semaphore, pool ):\n",
    "    with semaphore:\n",
    "        name = threading.currentThread().getName()\n",
    "        pool.acquire(name)\n",
    "        time.sleep(1)\n",
    "        pool.release(name)\n",
    "            \n",
    "\n",
    "if __name__ == '__main__':\n",
    "    threads = []\n",
    "    pool = ThreadPool()\n",
    "    semaphore = threading.Semaphore(4)\n",
    "    for i in range(10):\n",
    "        t = threading.Thread( target=worker, name=\"스레드 \"+str(i), args=(semaphore,pool))\n",
    "        t.start()\n",
    "        threads.append(t)\n",
    "        \n",
    "    for t in threads:\n",
    "        t.join()\n"
   ]
  },
  {
   "cell_type": "markdown",
   "metadata": {},
   "source": [
    "### 생산자 소비자의 문제"
   ]
  },
  {
   "cell_type": "code",
   "execution_count": 85,
   "metadata": {},
   "outputs": [
    {
     "name": "stdout",
     "output_type": "stream",
     "text": [
      "소비자1 시작\n",
      "소비자2 시작\n",
      "소비자2 대기\n",
      "소비자1 대기\n",
      "생산자 시작\n",
      "생산자 자원 생산 후 모든 소비자에게 알림\n",
      "소비자2 자원 소비\n",
      "소비자1 자원 소비\n"
     ]
    }
   ],
   "source": [
    "import threading\n",
    "        \n",
    "def consumer( cond ):\n",
    "    name = threading.currentThread().getName()\n",
    "    print(\"{0} 시작\".format(name))\n",
    "    with cond:    \n",
    "        print(\"{0} 대기\".format(name))\n",
    "        cond.wait()\n",
    "        print(\"{0} 자원 소비\".format(name))\n",
    "\n",
    "def producer( cond ):\n",
    "    name = threading.currentThread().getName()\n",
    "    print(\"{0} 시작\".format(name))\n",
    "    with cond:    \n",
    "        print(\"{0} 자원 생산 후 모든 소비자에게 알림\".format(name))\n",
    "        cond.notifyAll()\n",
    "\n",
    "if __name__ == '__main__':\n",
    "    condition = threading.Condition()\n",
    "    consumer1 = threading.Thread( target=consumer, name=\"소비자1\", args=(condition,))\n",
    "    consumer2 = threading.Thread( target=consumer, name=\"소비자2\", args=(condition,))\n",
    "    producer =  threading.Thread( target=producer, name=\"생산자\", args=(condition,))    \n",
    "    \n",
    "    consumer1.start()\n",
    "    consumer2.start()\n",
    "    producer.start()"
   ]
  },
  {
   "cell_type": "markdown",
   "metadata": {},
   "source": [
    "### 프로파일러"
   ]
  },
  {
   "cell_type": "code",
   "execution_count": 89,
   "metadata": {},
   "outputs": [
    {
     "name": "stdout",
     "output_type": "stream",
     "text": [
      "Hello World!\n",
      "Hello World!\n",
      "         70 function calls in 5.000 seconds\n",
      "\n",
      "   Ordered by: standard name\n",
      "\n",
      "   ncalls  tottime  percall  cumtime  percall filename:lineno(function)\n",
      "        1    0.000    0.000    5.000    5.000 <ipython-input-89-05019ee8f61e>:10(main)\n",
      "        1    0.000    0.000    5.000    5.000 <ipython-input-89-05019ee8f61e>:4(sleep)\n",
      "        2    0.000    0.000    0.000    0.000 <ipython-input-89-05019ee8f61e>:7(hello_world)\n",
      "        1    0.000    0.000    5.000    5.000 <string>:1(<module>)\n",
      "        5    0.000    0.000    0.000    0.000 iostream.py:197(schedule)\n",
      "        4    0.000    0.000    0.000    0.000 iostream.py:309(_is_master_process)\n",
      "        4    0.000    0.000    0.000    0.000 iostream.py:322(_schedule_flush)\n",
      "        4    0.000    0.000    0.000    0.000 iostream.py:384(write)\n",
      "        5    0.000    0.000    0.000    0.000 iostream.py:93(_event_pipe)\n",
      "        5    0.000    0.000    0.000    0.000 socket.py:342(send)\n",
      "        5    0.000    0.000    0.000    0.000 threading.py:1050(_wait_for_tstate_lock)\n",
      "        5    0.000    0.000    0.000    0.000 threading.py:1092(is_alive)\n",
      "        5    0.000    0.000    0.000    0.000 threading.py:507(is_set)\n",
      "        1    0.000    0.000    5.000    5.000 {built-in method builtins.exec}\n",
      "        4    0.000    0.000    0.000    0.000 {built-in method builtins.isinstance}\n",
      "        2    0.000    0.000    0.000    0.000 {built-in method builtins.print}\n",
      "        4    0.000    0.000    0.000    0.000 {built-in method nt.getpid}\n",
      "        1    5.000    5.000    5.000    5.000 {built-in method time.sleep}\n",
      "        5    0.000    0.000    0.000    0.000 {method 'acquire' of '_thread.lock' objects}\n",
      "        5    0.000    0.000    0.000    0.000 {method 'append' of 'collections.deque' objects}\n",
      "        1    0.000    0.000    0.000    0.000 {method 'disable' of '_lsprof.Profiler' objects}\n",
      "\n",
      "\n"
     ]
    }
   ],
   "source": [
    "import cProfile\n",
    "import time\n",
    "\n",
    "def sleep():\n",
    "    time.sleep(5)\n",
    "\n",
    "def hello_world():\n",
    "    print(\"Hello World!\")\n",
    "    \n",
    "def main():\n",
    "    sleep()\n",
    "    hello_world()\n",
    "    hello_world()\n",
    "    \n",
    "cProfile.run('main()')"
   ]
  },
  {
   "cell_type": "markdown",
   "metadata": {},
   "source": [
    "### 스택 만들기"
   ]
  },
  {
   "cell_type": "code",
   "execution_count": 94,
   "metadata": {},
   "outputs": [
    {
     "name": "stdout",
     "output_type": "stream",
     "text": [
      "[]\n",
      "[0, 1, 2, 3, 4, 5, 6, 7, 8, 9]\n",
      "pop : 9\n",
      "pop : 8\n",
      "pop : 7\n",
      "pop : 6\n",
      "pop : 5\n",
      "pop : 4\n",
      "pop : 3\n",
      "pop : 2\n",
      "pop : 1\n",
      "pop : 0\n"
     ]
    },
    {
     "ename": "IndexError",
     "evalue": "pop from empty list",
     "output_type": "error",
     "traceback": [
      "\u001b[1;31m---------------------------------------------------------------------------\u001b[0m",
      "\u001b[1;31mIndexError\u001b[0m                                Traceback (most recent call last)",
      "\u001b[1;32m<ipython-input-94-b68ef9784549>\u001b[0m in \u001b[0;36m<module>\u001b[1;34m\u001b[0m\n\u001b[0;32m     36\u001b[0m     \u001b[1;32mfor\u001b[0m \u001b[0mi\u001b[0m \u001b[1;32min\u001b[0m \u001b[0mrange\u001b[0m\u001b[1;33m(\u001b[0m\u001b[1;36m10\u001b[0m\u001b[1;33m)\u001b[0m\u001b[1;33m:\u001b[0m\u001b[1;33m\u001b[0m\u001b[1;33m\u001b[0m\u001b[0m\n\u001b[0;32m     37\u001b[0m         \u001b[0mprint\u001b[0m\u001b[1;33m(\u001b[0m\u001b[1;34m\"pop : {0}\"\u001b[0m\u001b[1;33m.\u001b[0m\u001b[0mformat\u001b[0m\u001b[1;33m(\u001b[0m\u001b[0mstack\u001b[0m\u001b[1;33m.\u001b[0m\u001b[0mpop\u001b[0m\u001b[1;33m(\u001b[0m\u001b[1;33m)\u001b[0m\u001b[1;33m)\u001b[0m\u001b[1;33m)\u001b[0m\u001b[1;33m\u001b[0m\u001b[1;33m\u001b[0m\u001b[0m\n\u001b[1;32m---> 38\u001b[1;33m     \u001b[0mprint\u001b[0m\u001b[1;33m(\u001b[0m\u001b[1;34m\"pop : {0}\"\u001b[0m\u001b[1;33m.\u001b[0m\u001b[0mformat\u001b[0m\u001b[1;33m(\u001b[0m\u001b[0mstack\u001b[0m\u001b[1;33m.\u001b[0m\u001b[0mpop\u001b[0m\u001b[1;33m(\u001b[0m\u001b[1;33m)\u001b[0m\u001b[1;33m)\u001b[0m\u001b[1;33m)\u001b[0m\u001b[1;33m\u001b[0m\u001b[1;33m\u001b[0m\u001b[0m\n\u001b[0m",
      "\u001b[1;32m<ipython-input-94-b68ef9784549>\u001b[0m in \u001b[0;36mpop\u001b[1;34m(self)\u001b[0m\n\u001b[0;32m     10\u001b[0m \u001b[1;33m\u001b[0m\u001b[0m\n\u001b[0;32m     11\u001b[0m     \u001b[1;32mdef\u001b[0m \u001b[0mpop\u001b[0m\u001b[1;33m(\u001b[0m\u001b[0mself\u001b[0m\u001b[1;33m)\u001b[0m\u001b[1;33m:\u001b[0m\u001b[1;33m\u001b[0m\u001b[1;33m\u001b[0m\u001b[0m\n\u001b[1;32m---> 12\u001b[1;33m         \u001b[0mvalue\u001b[0m \u001b[1;33m=\u001b[0m \u001b[0mself\u001b[0m\u001b[1;33m.\u001b[0m\u001b[0mitems\u001b[0m\u001b[1;33m.\u001b[0m\u001b[0mpop\u001b[0m\u001b[1;33m(\u001b[0m\u001b[1;33m)\u001b[0m\u001b[1;33m\u001b[0m\u001b[1;33m\u001b[0m\u001b[0m\n\u001b[0m\u001b[0;32m     13\u001b[0m         \u001b[1;32mif\u001b[0m \u001b[0mvalue\u001b[0m \u001b[1;32mis\u001b[0m \u001b[1;32mnot\u001b[0m \u001b[1;32mNone\u001b[0m\u001b[1;33m:\u001b[0m\u001b[1;33m\u001b[0m\u001b[1;33m\u001b[0m\u001b[0m\n\u001b[0;32m     14\u001b[0m             \u001b[1;32mreturn\u001b[0m \u001b[0mvalue\u001b[0m\u001b[1;33m\u001b[0m\u001b[1;33m\u001b[0m\u001b[0m\n",
      "\u001b[1;31mIndexError\u001b[0m: pop from empty list"
     ]
    }
   ],
   "source": [
    "class Stack(object):\n",
    "    def __init__(self):\n",
    "        self.items = []\n",
    "        \n",
    "    def isEmpty(self):\n",
    "        return not bool(self.items)\n",
    "    \n",
    "    def push(self, value):\n",
    "        self.items.append(value)\n",
    "        \n",
    "    def pop(self):\n",
    "        value = self.items.pop()\n",
    "        if value is not None:\n",
    "            return value\n",
    "        else:\n",
    "            print(\"Stack is empty.\")\n",
    "    \n",
    "    def size(self):\n",
    "        return len(self.items)\n",
    "    \n",
    "    def peek(self):\n",
    "        if self.items:\n",
    "            return self.items[-1]\n",
    "        else:\n",
    "            print(\"Stack is empty.\")\n",
    "            \n",
    "    def __repr__(self):\n",
    "        return repr(self.items)\n",
    "    \n",
    "if __name__ == \"__main__\":\n",
    "    stack = Stack()\n",
    "    print(stack)\n",
    "    for i in range(10):\n",
    "        stack.push(i)\n",
    "    print(stack)\n",
    "    for i in range(10):\n",
    "        print(\"pop : {0}\".format(stack.pop()))\n",
    "    print(\"pop : {0}\".format(stack.pop()))"
   ]
  },
  {
   "cell_type": "code",
   "execution_count": 95,
   "metadata": {},
   "outputs": [
    {
     "name": "stdout",
     "output_type": "stream",
     "text": [
      "<__main__.Stack object at 0x0000018A803904C8>\n",
      "<__main__.Stack object at 0x0000018A803904C8>\n",
      "pop : 9\n",
      "pop : 8\n",
      "pop : 7\n",
      "pop : 6\n",
      "pop : 5\n",
      "pop : 4\n",
      "pop : 3\n",
      "pop : 2\n",
      "pop : 1\n",
      "pop : 0\n",
      "Stack is empty.\n",
      "pop : None\n"
     ]
    }
   ],
   "source": [
    "class Node(object):\n",
    "    def __init__(self, value=None, pointer=None ):\n",
    "        self.value = value\n",
    "        self.pointer = pointer\n",
    "\n",
    "class Stack(object):\n",
    "    def __init__(self):\n",
    "        self.head = None\n",
    "        self.count = 0\n",
    "        \n",
    "    def isEmpty(self):\n",
    "        return not bool(self.head)\n",
    "    \n",
    "    def push(self, item):\n",
    "        self.head = Node(item, self.head)\n",
    "        self.count += 1\n",
    "        \n",
    "    def pop(self):\n",
    "        if( self.count>0 and self.head ):\n",
    "            node = self.head\n",
    "            self.head = node.pointer\n",
    "            self.count -= 1\n",
    "            return node.value\n",
    "        else:\n",
    "            print(\"Stack is empty.\")\n",
    "    \n",
    "    def size(self):\n",
    "        return self.count\n",
    "    \n",
    "    def peek(self):\n",
    "        if( self.count>0 and self.head ):\n",
    "            return self.head.value\n",
    "        else:\n",
    "            print(\"Stack is empty.\")\n",
    "            \n",
    "    def _printList(self):\n",
    "        node = self.head\n",
    "        while node:\n",
    "            print(node.value, end=\" \")\n",
    "            node = node.pointer\n",
    "        print()\n",
    "    \n",
    "if __name__ == \"__main__\":\n",
    "    stack = Stack()\n",
    "    print(stack)\n",
    "    for i in range(10):\n",
    "        stack.push(i)\n",
    "    print(stack)\n",
    "    for i in range(10):\n",
    "        print(\"pop : {0}\".format(stack.pop()))\n",
    "    print(\"pop : {0}\".format(stack.pop()))"
   ]
  },
  {
   "cell_type": "markdown",
   "metadata": {},
   "source": [
    "### Queue 만들기"
   ]
  },
  {
   "cell_type": "code",
   "execution_count": 97,
   "metadata": {},
   "outputs": [
    {
     "name": "stdout",
     "output_type": "stream",
     "text": [
      "[]\n",
      "[9, 8, 7, 6, 5, 4, 3, 2, 1, 0]\n",
      "dequeue : 0\n",
      "dequeue : 1\n",
      "dequeue : 2\n",
      "dequeue : 3\n",
      "dequeue : 4\n",
      "dequeue : 5\n",
      "dequeue : 6\n",
      "dequeue : 7\n",
      "dequeue : 8\n",
      "dequeue : 9\n"
     ]
    }
   ],
   "source": [
    "class Queue(object):\n",
    "    def __init__(self):\n",
    "        self.items = []\n",
    "        \n",
    "    def isEmpty(self):\n",
    "        return not bool(self.items)\n",
    "    \n",
    "    def enqueue(self, value):\n",
    "        self.items.insert(0, value)\n",
    "        \n",
    "    def dequeue(self):\n",
    "        value = self.items.pop()\n",
    "        if value is not None:\n",
    "            return value\n",
    "        else:\n",
    "            print(\"Queue is empty.\")\n",
    "    \n",
    "    def size(self):\n",
    "        return len(self.items)\n",
    "    \n",
    "    def peek(self):\n",
    "        if self.items:\n",
    "            return self.items[-1]\n",
    "        else:\n",
    "            print(\"Queue is empty.\")\n",
    "            \n",
    "    def __repr__(self):\n",
    "        return repr(self.items)\n",
    "    \n",
    "if __name__ == \"__main__\":\n",
    "    queue = Queue()\n",
    "    print(queue)\n",
    "    for i in range(10):\n",
    "        queue.enqueue(i)\n",
    "    print(queue)\n",
    "    for i in range(10):\n",
    "        print(\"dequeue : {0}\".format(queue.dequeue()))"
   ]
  },
  {
   "cell_type": "code",
   "execution_count": 98,
   "metadata": {},
   "outputs": [
    {
     "name": "stdout",
     "output_type": "stream",
     "text": [
      "[]\n",
      "[9, 8, 7, 6, 5, 4, 3, 2, 1, 0]\n",
      "pop : 0\n",
      "pop : 1\n",
      "pop : 2\n",
      "pop : 3\n",
      "pop : 4\n",
      "pop : 5\n",
      "pop : 6\n",
      "pop : 7\n",
      "pop : 8\n",
      "pop : 9\n"
     ]
    },
    {
     "ename": "IndexError",
     "evalue": "pop from empty list",
     "output_type": "error",
     "traceback": [
      "\u001b[1;31m---------------------------------------------------------------------------\u001b[0m",
      "\u001b[1;31mIndexError\u001b[0m                                Traceback (most recent call last)",
      "\u001b[1;32m<ipython-input-98-ac8b29df8f2e>\u001b[0m in \u001b[0;36m<module>\u001b[1;34m\u001b[0m\n\u001b[0;32m     58\u001b[0m     \u001b[1;32mfor\u001b[0m \u001b[0mi\u001b[0m \u001b[1;32min\u001b[0m \u001b[0mrange\u001b[0m\u001b[1;33m(\u001b[0m\u001b[1;36m10\u001b[0m\u001b[1;33m)\u001b[0m\u001b[1;33m:\u001b[0m\u001b[1;33m\u001b[0m\u001b[1;33m\u001b[0m\u001b[0m\n\u001b[0;32m     59\u001b[0m         \u001b[0mprint\u001b[0m\u001b[1;33m(\u001b[0m\u001b[1;34m\"pop : {0}\"\u001b[0m\u001b[1;33m.\u001b[0m\u001b[0mformat\u001b[0m\u001b[1;33m(\u001b[0m\u001b[0mqueue\u001b[0m\u001b[1;33m.\u001b[0m\u001b[0mdequeue\u001b[0m\u001b[1;33m(\u001b[0m\u001b[1;33m)\u001b[0m\u001b[1;33m)\u001b[0m\u001b[1;33m)\u001b[0m\u001b[1;33m\u001b[0m\u001b[1;33m\u001b[0m\u001b[0m\n\u001b[1;32m---> 60\u001b[1;33m     \u001b[0mprint\u001b[0m\u001b[1;33m(\u001b[0m\u001b[1;34m\"pop : {0}\"\u001b[0m\u001b[1;33m.\u001b[0m\u001b[0mformat\u001b[0m\u001b[1;33m(\u001b[0m\u001b[0mqueue\u001b[0m\u001b[1;33m.\u001b[0m\u001b[0mdequeue\u001b[0m\u001b[1;33m(\u001b[0m\u001b[1;33m)\u001b[0m\u001b[1;33m)\u001b[0m\u001b[1;33m)\u001b[0m\u001b[1;33m\u001b[0m\u001b[1;33m\u001b[0m\u001b[0m\n\u001b[0m",
      "\u001b[1;32m<ipython-input-97-4ccd077dae4e>\u001b[0m in \u001b[0;36mdequeue\u001b[1;34m(self)\u001b[0m\n\u001b[0;32m     10\u001b[0m \u001b[1;33m\u001b[0m\u001b[0m\n\u001b[0;32m     11\u001b[0m     \u001b[1;32mdef\u001b[0m \u001b[0mdequeue\u001b[0m\u001b[1;33m(\u001b[0m\u001b[0mself\u001b[0m\u001b[1;33m)\u001b[0m\u001b[1;33m:\u001b[0m\u001b[1;33m\u001b[0m\u001b[1;33m\u001b[0m\u001b[0m\n\u001b[1;32m---> 12\u001b[1;33m         \u001b[0mvalue\u001b[0m \u001b[1;33m=\u001b[0m \u001b[0mself\u001b[0m\u001b[1;33m.\u001b[0m\u001b[0mitems\u001b[0m\u001b[1;33m.\u001b[0m\u001b[0mpop\u001b[0m\u001b[1;33m(\u001b[0m\u001b[1;33m)\u001b[0m\u001b[1;33m\u001b[0m\u001b[1;33m\u001b[0m\u001b[0m\n\u001b[0m\u001b[0;32m     13\u001b[0m         \u001b[1;32mif\u001b[0m \u001b[0mvalue\u001b[0m \u001b[1;32mis\u001b[0m \u001b[1;32mnot\u001b[0m \u001b[1;32mNone\u001b[0m\u001b[1;33m:\u001b[0m\u001b[1;33m\u001b[0m\u001b[1;33m\u001b[0m\u001b[0m\n\u001b[0;32m     14\u001b[0m             \u001b[1;32mreturn\u001b[0m \u001b[0mvalue\u001b[0m\u001b[1;33m\u001b[0m\u001b[1;33m\u001b[0m\u001b[0m\n",
      "\u001b[1;31mIndexError\u001b[0m: pop from empty list"
     ]
    }
   ],
   "source": [
    "class Node(object):\n",
    "    def __init__(self, value=None, pointer=None ):\n",
    "        self.value = value\n",
    "        self.pointer = pointer\n",
    "\n",
    "class LinkedQueue(object):\n",
    "    def __init__(self):\n",
    "        self.head = None\n",
    "        self.tail= None\n",
    "        self.count = 0\n",
    "        \n",
    "    def isEmpty(self):\n",
    "        return not bool(self.head)\n",
    "\n",
    "    def dequeue(self):\n",
    "        if( self.head ):\n",
    "            value = self.head.value\n",
    "            self.head = self.head.pointer\n",
    "            self.count -= 1\n",
    "            return value\n",
    "        else:\n",
    "            print(\"Queue is empty.\")\n",
    "    \n",
    "    \n",
    "    def enqueue(self, value):\n",
    "        node = Node(value)\n",
    "        if not self.head:\n",
    "            self.head = node\n",
    "            self.tail = node\n",
    "        else:\n",
    "            if self.tail:\n",
    "                self.tail.pointer = node\n",
    "            self.tail = node\n",
    "        self.count += 1\n",
    "        \n",
    "    def size(self):\n",
    "        return self.count\n",
    "    \n",
    "    def peek(self):\n",
    "        if( self.count>0 ):\n",
    "            return self.head.value\n",
    "        else:\n",
    "            print(\"Queue is empty.\")\n",
    "            \n",
    "    def print(self):\n",
    "        node = self.head\n",
    "        while node:\n",
    "            print(node.value, end=\" \")\n",
    "            node = node.pointer\n",
    "        print()\n",
    "    \n",
    "if __name__ == \"__main__\":\n",
    "    queue = Queue()\n",
    "    print(queue)\n",
    "    for i in range(10):\n",
    "        queue.enqueue(i)\n",
    "    print(queue)\n",
    "    for i in range(10):\n",
    "        print(\"pop : {0}\".format(queue.dequeue()))\n",
    "    print(\"pop : {0}\".format(queue.dequeue()))"
   ]
  },
  {
   "cell_type": "markdown",
   "metadata": {},
   "source": [
    "### heapq 모듈"
   ]
  },
  {
   "cell_type": "code",
   "execution_count": 99,
   "metadata": {},
   "outputs": [
    {
     "data": {
      "text/plain": [
       "[1, 4, 8, 6]"
      ]
     },
     "execution_count": 99,
     "metadata": {},
     "output_type": "execute_result"
    }
   ],
   "source": [
    "import heapq\n",
    "\n",
    "list1 = [4, 6, 8, 1]\n",
    "heapq.heapify(list1)\n",
    "list1"
   ]
  },
  {
   "cell_type": "code",
   "execution_count": 107,
   "metadata": {},
   "outputs": [
    {
     "data": {
      "text/plain": [
       "[(1, 'food'), (2, 'have fun'), (3, 'work'), (4, 'study')]"
      ]
     },
     "execution_count": 107,
     "metadata": {},
     "output_type": "execute_result"
    }
   ],
   "source": [
    "h = [] \n",
    "heapq.heappush( h, (1, 'food'))\n",
    "heapq.heappush( h, (2, 'have fun'))\n",
    "heapq.heappush( h, (3, 'work'))\n",
    "heapq.heappush( h, (4, 'study'))\n",
    "type(h)\n",
    "h\n"
   ]
  },
  {
   "cell_type": "code",
   "execution_count": 108,
   "metadata": {},
   "outputs": [
    {
     "data": {
      "text/plain": [
       "[1, 4, 8, 6]"
      ]
     },
     "execution_count": 108,
     "metadata": {},
     "output_type": "execute_result"
    }
   ],
   "source": [
    "list1"
   ]
  },
  {
   "cell_type": "code",
   "execution_count": 109,
   "metadata": {},
   "outputs": [
    {
     "data": {
      "text/plain": [
       "1"
      ]
     },
     "execution_count": 109,
     "metadata": {},
     "output_type": "execute_result"
    }
   ],
   "source": [
    "heapq.heappop(list1)"
   ]
  },
  {
   "cell_type": "code",
   "execution_count": 110,
   "metadata": {},
   "outputs": [
    {
     "data": {
      "text/plain": [
       "4"
      ]
     },
     "execution_count": 110,
     "metadata": {},
     "output_type": "execute_result"
    }
   ],
   "source": [
    "heapq.heappop(list1)"
   ]
  },
  {
   "cell_type": "code",
   "execution_count": 111,
   "metadata": {},
   "outputs": [
    {
     "data": {
      "text/plain": [
       "6"
      ]
     },
     "execution_count": 111,
     "metadata": {},
     "output_type": "execute_result"
    }
   ],
   "source": [
    "heapq.heappop(list1)"
   ]
  },
  {
   "cell_type": "markdown",
   "metadata": {},
   "source": [
    "### heap 구현"
   ]
  },
  {
   "cell_type": "code",
   "execution_count": 129,
   "metadata": {},
   "outputs": [
    {
     "name": "stdout",
     "output_type": "stream",
     "text": [
      "3\n"
     ]
    }
   ],
   "source": [
    "left = 7\n",
    "i = 3\n",
    "largest = ( False ) and left or i\n",
    "print(largest)"
   ]
  },
  {
   "cell_type": "code",
   "execution_count": 130,
   "metadata": {},
   "outputs": [
    {
     "name": "stdout",
     "output_type": "stream",
     "text": [
      "[1, 2, 7, 4, 5, 6, 3]\n",
      "[1, 5, 7, 4, 2, 6, 3]\n",
      "[7, 5, 1, 4, 2, 6, 3]\n",
      "[7, 5, 6, 4, 2, 1, 3]\n",
      "[6, 5, 3, 4, 2, 1]\n",
      "7\n"
     ]
    }
   ],
   "source": [
    "class Heapify(object):\n",
    "    def __init__(self, data=None):\n",
    "        self.data = data or []\n",
    "        for i in range(len(data)//2, -1, -1):\n",
    "#             print(i)\n",
    "            self.__max_heapify__(i)\n",
    "            \n",
    "    def parent(self, i):\n",
    "        if i & 1:\n",
    "            return i >> 1\n",
    "        else:\n",
    "            return (i>>1) - 1\n",
    "        \n",
    "    def left_child(self, i):\n",
    "        return (i<<1) + 1\n",
    "    \n",
    "    def right_child(self, i):\n",
    "        return (i<<1) + 2\n",
    "    \n",
    "    def __max_heapify__(self, i):\n",
    "        largest = i\n",
    "        left = self.left_child(i)\n",
    "        right = self.right_child(i)\n",
    "        n = len(self.data)\n",
    "        \n",
    "        largest = (left<n and self.data[left] > self.data[i]) and left or i\n",
    "        largest = (right<n and self.data[right] > self.data[largest]) and right or largest\n",
    "        \n",
    "        if i is not largest:\n",
    "            self.data[i] , self.data[largest] = self.data[largest], self.data[i]\n",
    "            print(self.data)\n",
    "            self.__max_heapify__(largest)\n",
    "\n",
    "    def extract_max(self):\n",
    "        n = len(self.data)\n",
    "        max_element = self.data[0]\n",
    "        self.data[0] = self.data[n-1]\n",
    "        self.data = self.data[:n-1]\n",
    "        self.__max_heapify__(0)\n",
    "\n",
    "        return max_element \n",
    "    \n",
    "    def insert(self, item):\n",
    "        i = len(self.data)\n",
    "        self.data.append(item)\n",
    "        while( i != 0 ) and item > self.data[self.parent(i)]:\n",
    "            \n",
    "            self.data[i] = self.data[self.parent(i)]\n",
    "            i = self.parent(i)\n",
    "        self.data[i] = item\n",
    "        \n",
    "def test_heapify():\n",
    "    l1 = [1, 2, 3, 4, 5, 6, 7]\n",
    "    h = Heapify(l1)\n",
    "    print(h.extract_max())\n",
    "#     print(h.extract_max())\n",
    "#     print(h.extract_max())\n",
    "#     h.insert(9)\n",
    "#     print(h.data)\n",
    "\n",
    "if __name__ == \"__main__\":\n",
    "    test_heapify()\n",
    "    "
   ]
  },
  {
   "cell_type": "code",
   "execution_count": null,
   "metadata": {},
   "outputs": [],
   "source": []
  }
 ],
 "metadata": {
  "kernelspec": {
   "display_name": "Python 3",
   "language": "python",
   "name": "python3"
  },
  "language_info": {
   "codemirror_mode": {
    "name": "ipython",
    "version": 3
   },
   "file_extension": ".py",
   "mimetype": "text/x-python",
   "name": "python",
   "nbconvert_exporter": "python",
   "pygments_lexer": "ipython3",
   "version": "3.7.6"
  }
 },
 "nbformat": 4,
 "nbformat_minor": 4
}
