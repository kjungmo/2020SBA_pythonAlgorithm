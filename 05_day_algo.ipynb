{
 "cells": [
  {
   "cell_type": "markdown",
   "metadata": {},
   "source": [
    "###  연결리스트 구현 p202"
   ]
  },
  {
   "cell_type": "code",
   "execution_count": 2,
   "metadata": {},
   "outputs": [
    {
     "name": "stdout",
     "output_type": "stream",
     "text": [
      "a\n",
      "b\n",
      "aa\n",
      "e\n"
     ]
    }
   ],
   "source": [
    "class Node(object):\n",
    "    def __init__(self, value=None, pointer=None):\n",
    "        self.value = value\n",
    "        self.pointer = pointer\n",
    "        \n",
    "    def getData(self):\n",
    "        return self.value\n",
    "    \n",
    "    def getNext(self):\n",
    "        return self.pointer\n",
    "    \n",
    "    def setData(self, newdata):\n",
    "        self.value = newdata\n",
    "        \n",
    "    def setNext(self, newpointer):\n",
    "        self.pointer = newpointer\n",
    "        \n",
    "        \n",
    "if __name__ == \"__main__\":\n",
    "    L = Node(\"a\", Node(\"b\", Node(\"c\", Node(\"d\")))) \n",
    "    assert(L.pointer.pointer.value==\"c\")\n",
    "    \n",
    "    print(L.getData())\n",
    "    print(L.getNext().getData())\n",
    "    L.setData(\"aa\")\n",
    "    L.setNext(Node(\"e\"))\n",
    "    print(L.getData())\n",
    "    print(L.getNext().getData())"
   ]
  },
  {
   "cell_type": "code",
   "execution_count": 2,
   "metadata": {},
   "outputs": [
    {
     "name": "stdout",
     "output_type": "stream",
     "text": [
      "a\n",
      "b\n",
      "aa\n",
      "e\n"
     ]
    }
   ],
   "source": [
    "class Node(object):\n",
    "    def __init__(self, value=None, pointer=None):\n",
    "        self.value = value\n",
    "        self.pointer = pointer\n",
    "        \n",
    "    def getData(self):\n",
    "        return self.value\n",
    "    \n",
    "    def getNext(self):\n",
    "        return self.pointer\n",
    "    \n",
    "    def setData(self, newdata):\n",
    "        self.value = newdata\n",
    "        \n",
    "    def setNext(self, newpointer):\n",
    "        self.pointer = newpointer\n",
    "        \n",
    "        \n",
    "if __name__ == \"__main__\":\n",
    "    L = Node(\"a\", Node(\"b\", Node(\"c\", Node(\"d\")))) \n",
    "#     제일 안에 있는 d부터 시작. d는 value로 들어가\n",
    "#     c의 포인터 자리에 d노드가 들어가게 되므로 결국 c는 d를 가리키게 됨\n",
    "#     c를 리턴하면서 b를 만들고 b의 next로 c를 가리킴\n",
    "#     전체를 가리키는 것을 L이라고 함\n",
    "#     이런 리스트를 메모리에 예화함\n",
    "#     이렇게 초기화할 수도 있다.\n",
    "#     assert로 value가 c라는 것은 포인터가 가리키는 (b) , 의  포인터가 가리키는 곳은 c이라 그곳의 value가 c\n",
    "#     aa로 바꾼 경우?\n",
    "#     a 가 aa로 바뀐다. a가 aa로 바뀌는 코드다\n",
    "#     node e를 만들어 집어 넣음. e라는 포인터는 L이 가리키는 포인터에 넣은것이다. \n",
    "#     L이 가리키고 있는 next에 노드 e를 넣은것이므로 e를 넣으면서 연결이 다 끊어짐\n",
    "#     그다음 L이 가리키는 데이터를 꺼내면 aa가 찍히고 \n",
    "#     그 next의 데이터는 새롭게 들어온 e가 찍힘\n",
    "#  value는 데이터를 저장하는 곳이고 포인터는 다음 노드를 가리킴\n",
    "#마지막 print 값에서 e 찍히는 것은 aa의 포인터의 넥스트 값이 e 이기 때문이다\n",
    "    assert(L.pointer.pointer.value==\"c\")\n",
    "    \n",
    "    print(L.getData())\n",
    "    print(L.getNext().getData())\n",
    "    L.setData(\"aa\")\n",
    "    L.setNext(Node(\"e\"))\n",
    "    print(L.getData())\n",
    "    print(L.getNext().getData())"
   ]
  },
  {
   "cell_type": "code",
   "execution_count": null,
   "metadata": {},
   "outputs": [],
   "source": []
  }
 ],
 "metadata": {
  "kernelspec": {
   "display_name": "Python 3",
   "language": "python",
   "name": "python3"
  },
  "language_info": {
   "codemirror_mode": {
    "name": "ipython",
    "version": 3
   },
   "file_extension": ".py",
   "mimetype": "text/x-python",
   "name": "python",
   "nbconvert_exporter": "python",
   "pygments_lexer": "ipython3",
   "version": "3.7.6"
  }
 },
 "nbformat": 4,
 "nbformat_minor": 4
}
