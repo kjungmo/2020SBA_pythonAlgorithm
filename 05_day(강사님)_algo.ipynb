{
 "cells": [
  {
   "cell_type": "markdown",
   "metadata": {},
   "source": [
    "### 연결리스트 구현"
   ]
  },
  {
   "cell_type": "code",
   "execution_count": 149,
   "metadata": {},
   "outputs": [
    {
     "name": "stdout",
     "output_type": "stream",
     "text": [
      "a\n",
      "b\n",
      "aa\n",
      "e\n"
     ]
    }
   ],
   "source": [
    "class Node(object):\n",
    "    def __init__(self, value=None, pointer=None):\n",
    "        self.value = value\n",
    "        self.pointer = pointer\n",
    "        \n",
    "    def getData(self):\n",
    "        return self.value\n",
    "    \n",
    "    def getNext(self):\n",
    "        return self.pointer\n",
    "    \n",
    "    def setData(self, newdata):\n",
    "        self.value = newdata\n",
    "        \n",
    "    def setNext(self, newpointer):\n",
    "        self.pointer = newpointer\n",
    "        \n",
    "if __name__ == '__main__':\n",
    "    L = Node(\"a\", Node(\"b\", Node(\"c\", Node(\"d\"))))\n",
    "    assert( L.pointer.pointer.value==\"c\")\n",
    "    \n",
    "    print(L.getData())\n",
    "    print(L.getNext().getData())\n",
    "    L.setData('aa')\n",
    "    L.setNext(Node(\"e\"))\n",
    "    print(L.getData())\n",
    "    print(L.getNext().getData())"
   ]
  },
  {
   "cell_type": "code",
   "execution_count": 155,
   "metadata": {},
   "outputs": [
    {
     "name": "stdout",
     "output_type": "stream",
     "text": [
      "연결 리스트 출력:\n",
      "Head->[4]->[3]->[2]->[1]\n",
      "Head->[4]->[3]->[1]\n",
      "Head->[4]->[1]\n"
     ]
    }
   ],
   "source": [
    "class LinkedListLIFO(object):\n",
    "    def __init__(self):\n",
    "        self.head = None\n",
    "        self.length = 0\n",
    "        \n",
    "    def _printList(self):\n",
    "        node = self.head\n",
    "        print(\"Head\", end=\"\")\n",
    "        while node:\n",
    "            print(\"->[%d]\"%node.value, end=\"\")\n",
    "            node = node.pointer\n",
    "        print()\n",
    "        \n",
    "    def _delete(self, prev, node):\n",
    "        self.length -= 1\n",
    "        if not prev :\n",
    "            self.head = node.pointer\n",
    "        else:\n",
    "            prev.pointer = node.pointer\n",
    "            \n",
    "    def _add(self, value):\n",
    "        self.length += 1\n",
    "        self.head = Node(value, self.head)\n",
    "        \n",
    "    def _find(self, index):\n",
    "        prev = None\n",
    "        node = self.head\n",
    "        i = 0\n",
    "        while node and i < index:\n",
    "            prev = node\n",
    "            node = node.pointer\n",
    "            i+=1\n",
    "        return node, prev, i \n",
    "    \n",
    "    def _find_by_value(self, value):\n",
    "        prev = None\n",
    "        node = self.head\n",
    "        found = False\n",
    "        while node and not found:\n",
    "            if node.value == value:\n",
    "                found= True\n",
    "            else:\n",
    "                prev = node\n",
    "                node = node.pointer\n",
    "        return node, prev, found\n",
    "    \n",
    "    def deleteNode(self, index):\n",
    "        node, prev, i = self._find(index)\n",
    "        if index == i:\n",
    "            self._delete(prev, node)\n",
    "        else:\n",
    "            print(f\"인덱스 {index}에 해당하는 노드가 없습니다.\")\n",
    "    \n",
    "    def deleteNodeByValue(self, value):\n",
    "        node, prev, found = self._find_by_value(value)\n",
    "        if found:\n",
    "            self._delete(prev, node)\n",
    "        else:\n",
    "            print(f\"값 {value}에 해당하는 노드가 없습니다.\")\n",
    "        \n",
    "        \n",
    "if __name__ == '__main__':\n",
    "    l1 = LinkedListLIFO()\n",
    "    for i in range(1, 5):\n",
    "        l1._add(i)\n",
    "    print(\"연결 리스트 출력:\")\n",
    "    l1._printList()\n",
    "    l1.deleteNode(2)\n",
    "    l1._printList()\n",
    "    l1.deleteNodeByValue(3)\n",
    "    l1._printList()"
   ]
  },
  {
   "cell_type": "code",
   "execution_count": 182,
   "metadata": {},
   "outputs": [
    {
     "name": "stdout",
     "output_type": "stream",
     "text": [
      "연결 리스트 출력:\n",
      "->[1]->[2]->[3]->[4]\n",
      "->[1]->[2]->[4]\n",
      "->[1]->[4]\n"
     ]
    }
   ],
   "source": [
    "class LinkedListFIFO(object):\n",
    "    def __init__(self):\n",
    "        self.head = None\n",
    "        self.length = 0\n",
    "        self.tail = None\n",
    "        \n",
    "    def _printList(self):\n",
    "        node = self.head\n",
    "        while node:\n",
    "            print(\"->[%d]\"%node.value, end=\"\")\n",
    "            node = node.pointer\n",
    "        print()\n",
    "\n",
    "    def _addFirst(self, value):\n",
    "        self.length = 1\n",
    "        node = Node(value)\n",
    "        self.head = node\n",
    "        self.tail = node\n",
    "        \n",
    "    def _deleteFirst(self):\n",
    "        self.length = 0\n",
    "        self.head = None\n",
    "        self.tail = None\n",
    "        print(\"연결 리스트가 비었습니다.\")\n",
    "            \n",
    "    def _add(self, value):\n",
    "        self.length += 1\n",
    "        node = Node(value)\n",
    "        if self.tail:\n",
    "            self.tail.pointer = node\n",
    "        self.tail = node\n",
    "    \n",
    "    def addNode(self, value):\n",
    "        if not self.head:\n",
    "            self._addFirst(value)\n",
    "        else:\n",
    "            self._add(value)\n",
    "            \n",
    "    def _find(self, index):\n",
    "        prev = None\n",
    "        node = self.head\n",
    "        i = 0\n",
    "        while node and i < index:\n",
    "            prev = node\n",
    "            node = node.pointer\n",
    "            i+=1\n",
    "        return node, prev, i \n",
    "    \n",
    "    def _find_by_value(self, value):\n",
    "        prev = None\n",
    "        node = self.head\n",
    "        found = False\n",
    "        while node and not found:\n",
    "            if node.value == value:\n",
    "                found= True\n",
    "            else:\n",
    "                prev = node\n",
    "                node = node.pointer\n",
    "        return node, prev, found\n",
    "    \n",
    "    def deleteNode(self, index):\n",
    "        if not self.head or not self.head.pointer:\n",
    "            self._deleteFirst()\n",
    "        else:\n",
    "            node, prev, i = self._find(index)\n",
    "            if i == index and node:\n",
    "                self.length -= 1\n",
    "                if i==0 or not prev:\n",
    "                    self.head = node.pointer\n",
    "                    self.tail = node.pointer\n",
    "                else:\n",
    "                     prev.pointer = node.pointer\n",
    "            else :\n",
    "                print(\"인데스 {0}에 해당하는 노드가 없습니다.\".format(index))\n",
    "    \n",
    "    def deleteNodeByValue(self, value):\n",
    "        if not self.head or not self.head.pointer:\n",
    "            self._deleteFirst()\n",
    "        else:\n",
    "            node, prev, i = self._find_by_value(value)\n",
    "            if node and node.value == value:\n",
    "                self.length -= 1\n",
    "            \n",
    "                if i == 0 or not prev:\n",
    "                    self.head = node.pointer\n",
    "                    self.tail = node.pointer\n",
    "                else:\n",
    "                    prev.pointer = node.pointer\n",
    "            \n",
    "            else:\n",
    "                print(\"값 {0}에 해당하는 노드가 없습니다.\".format(value))\n",
    "       \n",
    "        \n",
    "if __name__ == '__main__':\n",
    "    l1 = LinkedListFIFO()\n",
    "    for i in range(1, 5):\n",
    "        l1.addNode(i)\n",
    "    print(\"연결 리스트 출력:\")\n",
    "    l1._printList()\n",
    "    l1.deleteNode(2)\n",
    "    l1._printList()\n",
    "    l1.deleteNodeByValue(2)\n",
    "    l1._printList()"
   ]
  },
  {
   "cell_type": "code",
   "execution_count": 192,
   "metadata": {},
   "outputs": [
    {
     "name": "stdout",
     "output_type": "stream",
     "text": [
      "-3\n"
     ]
    }
   ],
   "source": [
    "item = -5\n",
    "print( item>>1 )"
   ]
  },
  {
   "cell_type": "code",
   "execution_count": 190,
   "metadata": {},
   "outputs": [
    {
     "name": "stdout",
     "output_type": "stream",
     "text": [
      "[[0]]->[0]\n",
      "[[1]]\n",
      "[[2]]\n",
      "[[3]]\n",
      "[[4]]\n",
      "[[5]]\n",
      "[[6]]\n",
      "[[7]]\n",
      "[[0]]->[0]\n",
      "[[1]]\n",
      "[[2]]\n",
      "[[3]]\n",
      "[[4]]->[1]\n",
      "[[5]]\n",
      "[[6]]\n",
      "[[7]]\n"
     ]
    },
    {
     "ename": "IndexError",
     "evalue": "list index out of range",
     "output_type": "error",
     "traceback": [
      "\u001b[1;31m---------------------------------------------------------------------------\u001b[0m",
      "\u001b[1;31mIndexError\u001b[0m                                Traceback (most recent call last)",
      "\u001b[1;32m<ipython-input-190-1e59055da7d3>\u001b[0m in \u001b[0;36m<module>\u001b[1;34m\u001b[0m\n\u001b[0;32m     44\u001b[0m \u001b[1;33m\u001b[0m\u001b[0m\n\u001b[0;32m     45\u001b[0m \u001b[1;32mif\u001b[0m \u001b[0m__name__\u001b[0m \u001b[1;33m==\u001b[0m \u001b[1;34m'__main__'\u001b[0m\u001b[1;33m:\u001b[0m\u001b[1;33m\u001b[0m\u001b[1;33m\u001b[0m\u001b[0m\n\u001b[1;32m---> 46\u001b[1;33m     \u001b[0mtest_hash_tables\u001b[0m\u001b[1;33m(\u001b[0m\u001b[1;33m)\u001b[0m\u001b[1;33m\u001b[0m\u001b[1;33m\u001b[0m\u001b[0m\n\u001b[0m",
      "\u001b[1;32m<ipython-input-190-1e59055da7d3>\u001b[0m in \u001b[0;36mtest_hash_tables\u001b[1;34m()\u001b[0m\n\u001b[0;32m     40\u001b[0m     \u001b[0mH1\u001b[0m \u001b[1;33m=\u001b[0m \u001b[0mHashTableLL\u001b[0m\u001b[1;33m(\u001b[0m\u001b[1;36m8\u001b[0m\u001b[1;33m)\u001b[0m\u001b[1;33m\u001b[0m\u001b[1;33m\u001b[0m\u001b[0m\n\u001b[0;32m     41\u001b[0m     \u001b[1;32mfor\u001b[0m \u001b[0mi\u001b[0m \u001b[1;32min\u001b[0m \u001b[0mrange\u001b[0m\u001b[1;33m(\u001b[0m\u001b[1;36m0\u001b[0m\u001b[1;33m,\u001b[0m\u001b[1;36m20\u001b[0m\u001b[1;33m)\u001b[0m\u001b[1;33m:\u001b[0m\u001b[1;33m\u001b[0m\u001b[1;33m\u001b[0m\u001b[0m\n\u001b[1;32m---> 42\u001b[1;33m         \u001b[0mH1\u001b[0m\u001b[1;33m.\u001b[0m\u001b[0m_add\u001b[0m\u001b[1;33m(\u001b[0m\u001b[0mi\u001b[0m\u001b[1;33m)\u001b[0m\u001b[1;33m\u001b[0m\u001b[1;33m\u001b[0m\u001b[0m\n\u001b[0m\u001b[0;32m     43\u001b[0m         \u001b[0mH1\u001b[0m\u001b[1;33m.\u001b[0m\u001b[0m_print\u001b[0m\u001b[1;33m(\u001b[0m\u001b[1;33m)\u001b[0m\u001b[1;33m\u001b[0m\u001b[1;33m\u001b[0m\u001b[0m\n\u001b[0;32m     44\u001b[0m \u001b[1;33m\u001b[0m\u001b[0m\n",
      "\u001b[1;32m<ipython-input-190-1e59055da7d3>\u001b[0m in \u001b[0;36m_add\u001b[1;34m(self, item)\u001b[0m\n\u001b[0;32m     23\u001b[0m     \u001b[1;32mdef\u001b[0m \u001b[0m_add\u001b[0m\u001b[1;33m(\u001b[0m\u001b[0mself\u001b[0m\u001b[1;33m,\u001b[0m \u001b[0mitem\u001b[0m\u001b[1;33m)\u001b[0m\u001b[1;33m:\u001b[0m\u001b[1;33m\u001b[0m\u001b[1;33m\u001b[0m\u001b[0m\n\u001b[0;32m     24\u001b[0m         \u001b[0mindex\u001b[0m \u001b[1;33m=\u001b[0m \u001b[0mself\u001b[0m\u001b[1;33m.\u001b[0m\u001b[0m_find\u001b[0m\u001b[1;33m(\u001b[0m\u001b[0mitem\u001b[0m\u001b[1;33m)\u001b[0m\u001b[1;33m\u001b[0m\u001b[1;33m\u001b[0m\u001b[0m\n\u001b[1;32m---> 25\u001b[1;33m         \u001b[0mself\u001b[0m\u001b[1;33m.\u001b[0m\u001b[0mslots\u001b[0m\u001b[1;33m[\u001b[0m\u001b[0mindex\u001b[0m\u001b[1;33m]\u001b[0m\u001b[1;33m.\u001b[0m\u001b[0maddNode\u001b[0m\u001b[1;33m(\u001b[0m\u001b[0mitem\u001b[0m\u001b[1;33m)\u001b[0m\u001b[1;33m\u001b[0m\u001b[1;33m\u001b[0m\u001b[0m\n\u001b[0m\u001b[0;32m     26\u001b[0m \u001b[1;33m\u001b[0m\u001b[0m\n\u001b[0;32m     27\u001b[0m     \u001b[1;32mdef\u001b[0m \u001b[0m_delete\u001b[0m\u001b[1;33m(\u001b[0m\u001b[0mself\u001b[0m\u001b[1;33m,\u001b[0m \u001b[0mitem\u001b[0m\u001b[1;33m)\u001b[0m\u001b[1;33m:\u001b[0m\u001b[1;33m\u001b[0m\u001b[1;33m\u001b[0m\u001b[0m\n",
      "\u001b[1;31mIndexError\u001b[0m: list index out of range"
     ]
    }
   ],
   "source": [
    "import os\n",
    "def clear():\n",
    "    os.system('cls')\n",
    "\n",
    "class HashTableLL(object):\n",
    "    def __init__(self, size):\n",
    "        self.size = size\n",
    "        self.slots = []\n",
    "        self._creatHashTable()\n",
    "    \n",
    "    def _creatHashTable(self):\n",
    "        for i in range( self.size ):\n",
    "            self.slots.append(LinkedListFIFO())\n",
    "            \n",
    "    def _find(self, item):\n",
    "        GOLDEN_RATIO_PRIME_32 = 0x9e370001\n",
    "        item = item * GOLDEN_RATIO_PRIME_32\n",
    "        bits = 3\n",
    "        item = item >> (32 - bits)\n",
    "\n",
    "        return item\n",
    "        \n",
    "    def _add(self, item):\n",
    "        index = self._find(item)\n",
    "        self.slots[index].addNode(item)\n",
    "            \n",
    "    def _delete(self, item):\n",
    "        index = self._find(item)\n",
    "        self.slots[index].deleteNodeByValue(item)\n",
    "            \n",
    "    def _print(self):\n",
    "        clear()\n",
    "        for i in range(self.size):\n",
    "            print(\"[[{0}]]\".format(i), end=\"\")\n",
    "            self.slots[i]._printList()\n",
    "        \n",
    "                \n",
    "        \n",
    "def test_hash_tables():\n",
    "    H1 = HashTableLL(8)\n",
    "    for i in range(0,20):\n",
    "        H1._add(i)\n",
    "        H1._print()\n",
    "\n",
    "if __name__ == '__main__':\n",
    "    test_hash_tables()"
   ]
  },
  {
   "cell_type": "markdown",
   "metadata": {},
   "source": [
    "### bubble sort"
   ]
  },
  {
   "cell_type": "code",
   "execution_count": 195,
   "metadata": {},
   "outputs": [
    {
     "name": "stdout",
     "output_type": "stream",
     "text": [
      "[1, 2, 2, 4, 5, 6, 7, 8, 10, 13]\n"
     ]
    }
   ],
   "source": [
    "def bubble_sort(seq):\n",
    "    length = len(seq) - 1\n",
    "    for num in range(length, 0, -1):\n",
    "        for i in range(num):\n",
    "            if seq[i] > seq[i+1]:\n",
    "                seq[i], seq[i+1] = seq[i+1], seq[i]\n",
    "                \n",
    "def test_bubble_sort():\n",
    "    seq = [4,5,2,1,6,2,7,10,13,8]\n",
    "    bubble_sort(seq)\n",
    "    print(seq)\n",
    "\n",
    "if __name__  == \"__main__\":\n",
    "    test_bubble_sort()"
   ]
  },
  {
   "cell_type": "code",
   "execution_count": 196,
   "metadata": {},
   "outputs": [
    {
     "name": "stdout",
     "output_type": "stream",
     "text": [
      "[1, 2, 2, 4, 5, 6, 7, 8, 10, 13]\n"
     ]
    }
   ],
   "source": [
    "def bubble_sort(seq):\n",
    "    length = len(seq) - 1\n",
    "    for num in range(length):\n",
    "        for i in range(length-num):\n",
    "            if seq[i] > seq[i+1]:\n",
    "                seq[i], seq[i+1] = seq[i+1], seq[i]\n",
    "                \n",
    "def test_bubble_sort():\n",
    "    seq = [4,5,2,1,6,2,7,10,13,8]\n",
    "    bubble_sort(seq)\n",
    "    print(seq)\n",
    "\n",
    "if __name__  == \"__main__\":\n",
    "    test_bubble_sort()"
   ]
  },
  {
   "cell_type": "markdown",
   "metadata": {},
   "source": [
    "###  선택 정렬"
   ]
  },
  {
   "cell_type": "code",
   "execution_count": 197,
   "metadata": {},
   "outputs": [
    {
     "name": "stdout",
     "output_type": "stream",
     "text": [
      "[3, 4, 9, 11, 28, 43]\n"
     ]
    }
   ],
   "source": [
    "def selection_sort(seq):\n",
    "    length = len(seq)\n",
    "    for i in range(length-1):\n",
    "        min_j = i\n",
    "        for j in range(i+1, length):\n",
    "            if seq[min_j] > seq[j]:\n",
    "                min_j = j\n",
    "        seq[i], seq[min_j] = seq[min_j], seq[i]\n",
    "    return seq\n",
    "\n",
    "def test_selection_sort():\n",
    "    seq = [11, 3, 28, 43, 9, 4]\n",
    "    selection_sort(seq)\n",
    "    print(seq)\n",
    "\n",
    "if __name__  == \"__main__\":\n",
    "    test_selection_sort()      "
   ]
  },
  {
   "cell_type": "markdown",
   "metadata": {},
   "source": [
    "### 삽입 정렬"
   ]
  },
  {
   "cell_type": "code",
   "execution_count": 199,
   "metadata": {},
   "outputs": [
    {
     "name": "stdout",
     "output_type": "stream",
     "text": [
      "[3, 4, 9, 11, 28, 43]\n",
      "[3, 4, 9, 11, 28, 43]\n"
     ]
    }
   ],
   "source": [
    "def insertion_sort(seq):\n",
    "    for i in range(1, len(seq)):\n",
    "        j = i\n",
    "        while j > 0 and seq[j-1] > seq[j]:\n",
    "            seq[j-1], seq[j] = seq[j], seq[j-1]\n",
    "            j -= 1\n",
    "    return seq\n",
    "\n",
    "def insertion_sort_rec(seq, i=None):\n",
    "    if i is None:\n",
    "        i = len(seq) - 1\n",
    "    if i == 0 :\n",
    "        return i\n",
    "    insertion_sort_rec(seq, i-1)\n",
    "    j=i\n",
    "    while j > 0 and seq[j-1] > seq[j]:\n",
    "        seq[j-1], seq[j] = seq[j], seq[j-1]\n",
    "        j -= 1\n",
    "    return seq\n",
    "    \n",
    "def test_insertion_sort():\n",
    "    seq = [11, 3, 28, 43, 9, 4]\n",
    "    insertion_sort(seq)\n",
    "    print(seq)\n",
    "    insertion_sort_rec(seq)\n",
    "    print(seq)\n",
    "\n",
    "if __name__  == \"__main__\":\n",
    "    test_insertion_sort() "
   ]
  },
  {
   "cell_type": "markdown",
   "metadata": {},
   "source": [
    "### 놈 정렬"
   ]
  },
  {
   "cell_type": "code",
   "execution_count": 202,
   "metadata": {},
   "outputs": [
    {
     "name": "stdout",
     "output_type": "stream",
     "text": [
      "[2, 3, 4, 5]\n"
     ]
    }
   ],
   "source": [
    "def gnome_sort(seq):\n",
    "    i=0\n",
    "    while i < len(seq):\n",
    "        if i == 0 or seq[i-1] <= seq[i]:\n",
    "            i += 1\n",
    "        else:\n",
    "            seq[i], seq[i-1] = seq[i-1], seq[i]\n",
    "            i -= 1\n",
    "    return seq\n",
    "\n",
    "def test_gnome_sort():\n",
    "    seq = [5, 3, 2, 4]\n",
    "    gnome_sort(seq)\n",
    "    print(seq)\n",
    "\n",
    "if __name__  == \"__main__\":\n",
    "    test_gnome_sort() "
   ]
  },
  {
   "cell_type": "markdown",
   "metadata": {},
   "source": [
    "### 카운트 정렬"
   ]
  },
  {
   "cell_type": "code",
   "execution_count": 206,
   "metadata": {},
   "outputs": [
    {
     "name": "stdout",
     "output_type": "stream",
     "text": [
      "[0, 1, 1, 2, 2, 3, 3, 3, 4, 5, 5, 5, 5, 6, 6, 8]\n"
     ]
    }
   ],
   "source": [
    "from collections import defaultdict\n",
    "\n",
    "def count_sort_dict(a):\n",
    "    b, c = [], defaultdict(list)\n",
    "    for x in a:\n",
    "        c[x].append(x)\n",
    "        \n",
    "    for k in range( min(c), max(c)+1):\n",
    "        b.extend(c[k])\n",
    "    return b\n",
    "\n",
    "def test_count_sort():\n",
    "    seq = [3,5,2,6,8,1,0,3,5,6,2,5,4,1,5,3]\n",
    "    seq = count_sort_dict(seq)\n",
    "    print(seq)\n",
    "    \n",
    "if __name__  == \"__main__\":\n",
    "    test_count_sort() "
   ]
  }
 ],
 "metadata": {
  "kernelspec": {
   "display_name": "Python 3",
   "language": "python",
   "name": "python3"
  },
  "language_info": {
   "codemirror_mode": {
    "name": "ipython",
    "version": 3
   },
   "file_extension": ".py",
   "mimetype": "text/x-python",
   "name": "python",
   "nbconvert_exporter": "python",
   "pygments_lexer": "ipython3",
   "version": "3.7.6"
  }
 },
 "nbformat": 4,
 "nbformat_minor": 4
}
