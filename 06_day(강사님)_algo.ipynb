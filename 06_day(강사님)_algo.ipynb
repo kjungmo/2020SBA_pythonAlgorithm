{
 "cells": [
  {
   "cell_type": "markdown",
   "metadata": {},
   "source": [
    "### 합병 정렬(merge sort)"
   ]
  },
  {
   "cell_type": "code",
   "execution_count": 5,
   "metadata": {},
   "outputs": [
    {
     "name": "stdout",
     "output_type": "stream",
     "text": [
      "[0, 1, 2, 2, 3, 3, 5, 5, 6, 6, 8]\n"
     ]
    }
   ],
   "source": [
    "def merge_sort(seq):\n",
    "    if len(seq)< 2:\n",
    "        return seq\n",
    "    \n",
    "    mid = len(seq)//2\n",
    "    left, right = seq[:mid], seq[mid:]\n",
    "    if len(left)>1:\n",
    "        left = merge_sort(left)\n",
    "    if len(right)>1:\n",
    "        right = merge_sort(right)\n",
    "        \n",
    "    res = []\n",
    "    while left and right:\n",
    "        if left[-1] >= right[-1]:\n",
    "            res.append(left.pop())\n",
    "        else:\n",
    "            res.append(right.pop())\n",
    "            \n",
    "    res.reverse()\n",
    "    return (left or right) + res\n",
    "\n",
    "def test_merge_sort():\n",
    "    seq = [3, 5, 2, 6, 8, 1, 0, 3, 5, 6, 2]\n",
    "    seq = merge_sort(seq)\n",
    "    print( seq )\n",
    "    \n",
    "if __name__ == \"__main__\":\n",
    "    test_merge_sort()"
   ]
  },
  {
   "cell_type": "markdown",
   "metadata": {},
   "source": [
    "### 퀵 소트 (Quick Sort)"
   ]
  },
  {
   "cell_type": "code",
   "execution_count": 7,
   "metadata": {},
   "outputs": [
    {
     "name": "stdout",
     "output_type": "stream",
     "text": [
      "[0, 1, 2, 2, 3, 3, 5, 5, 6, 6, 8]\n"
     ]
    }
   ],
   "source": [
    "def partition(seq, start, end):\n",
    "    pivot = seq[start]\n",
    "    left = start+1\n",
    "    right = end\n",
    "    done = False\n",
    "    while not done:\n",
    "        while left <= right and seq[left] <= pivot:\n",
    "            left += 1\n",
    "        while left <= right and pivot < seq[right]:\n",
    "            right -= 1\n",
    "            \n",
    "        if right < left:\n",
    "            done = True\n",
    "        else:\n",
    "            seq[left], seq[right] = seq[right], seq[left]\n",
    "            \n",
    "    seq[start], seq[right] = seq[right], seq[start]\n",
    "    return right\n",
    "\n",
    "def quick_sort( seq, start, end):\n",
    "    if start < end:\n",
    "        pivot = partition( seq, start, end)\n",
    "        quick_sort( seq, start, pivot-1)\n",
    "        quick_sort( seq, pivot+1, end)\n",
    "    return seq\n",
    "\n",
    "def test_quick_sort():\n",
    "    seq = [3, 5, 2, 6, 8, 1, 0, 3, 5, 6, 2]\n",
    "    seq = quick_sort(seq, 0, len(seq)-1 )\n",
    "    print( seq )\n",
    "    \n",
    "if __name__ == \"__main__\":\n",
    "    test_quick_sort()\n",
    "        "
   ]
  },
  {
   "cell_type": "markdown",
   "metadata": {},
   "source": [
    "### 힙 소트(heap sort)"
   ]
  },
  {
   "cell_type": "code",
   "execution_count": 9,
   "metadata": {},
   "outputs": [
    {
     "name": "stdout",
     "output_type": "stream",
     "text": [
      "[8, 6, 2, 5, 6, 1, 0, 3, 3, 5, 2]\n"
     ]
    }
   ],
   "source": [
    "def heap_sort3(seq):\n",
    "    for start in range((len(seq)-2)//2, -1, -1):\n",
    "        siftdown(seq, start, len(seq)-1)\n",
    "#     for end in range(len(seq)-1, 0, -1):\n",
    "#         seq[end], seq[0] = seq[0], seq[end]\n",
    "#         siftdown(seq, 0, end-1)\n",
    "    return seq\n",
    "\n",
    "def siftdown(seq, start, end):\n",
    "    root = start\n",
    "    while True:\n",
    "        child = root * 2 + 1\n",
    "        if child > end:\n",
    "            break\n",
    "        if child+1 <= end and seq[child] < seq[child+1]:\n",
    "            child += 1\n",
    "        if seq[root] < seq[child]:\n",
    "            seq[root], seq[child] = seq[child], seq[root]\n",
    "            root = child\n",
    "        else:\n",
    "            break\n",
    "            \n",
    "def test_heap_sort():\n",
    "    seq = [3, 5, 2, 6, 8, 1, 0, 3, 5, 6, 2]\n",
    "    seq = heap_sort3(seq)\n",
    "    print( seq )\n",
    "    \n",
    "if __name__ == \"__main__\":\n",
    "    test_heap_sort()      "
   ]
  },
  {
   "cell_type": "markdown",
   "metadata": {},
   "source": [
    "### 이진 검색(binary search)"
   ]
  },
  {
   "cell_type": "code",
   "execution_count": 15,
   "metadata": {},
   "outputs": [
    {
     "name": "stdout",
     "output_type": "stream",
     "text": [
      "3\n",
      "3\n"
     ]
    }
   ],
   "source": [
    "def binary_search_rec( seq, target, low, high):\n",
    "    if low > high:\n",
    "        return None\n",
    "    mid = (low+high) // 2\n",
    "    if target == seq[mid]:\n",
    "        return mid\n",
    "    elif target < seq[mid]:\n",
    "        return binary_search_rec(seq, target, low, mid-1)\n",
    "    else:\n",
    "        return binary_search_rec(seq, target, mid+1, high)\n",
    "    \n",
    "def binary_search_iter( seq, target):\n",
    "    high, low = len(seq), 0\n",
    "    while low<high:\n",
    "        mid = (high+low) // 2\n",
    "        if target == seq[mid]:\n",
    "            return mid\n",
    "        elif target < seq[mid]:\n",
    "            high = mid\n",
    "        else:\n",
    "            low = mid + 1\n",
    "    return None\n",
    "\n",
    "def test_binary_search():\n",
    "    seq = [1, 2, 5, 6, 7, 10, 12, 12, 14, 15]\n",
    "    target = 6\n",
    "\n",
    "    print(binary_search_iter(seq, target))\n",
    "    print(binary_search_rec(seq, target, 0, len(seq)))\n",
    "\n",
    "if __name__ == \"__main__\":\n",
    "    test_binary_search()       "
   ]
  },
  {
   "cell_type": "markdown",
   "metadata": {},
   "source": [
    "### 메모이제이션(피보나치 수열)"
   ]
  },
  {
   "cell_type": "code",
   "execution_count": 24,
   "metadata": {},
   "outputs": [
    {
     "name": "stdout",
     "output_type": "stream",
     "text": [
      "14930352\n",
      "test_fib: 4257.36 ms\n",
      "14930352\n",
      "test_fib2: 0.00 ms\n",
      "14930352\n",
      "test_fib3: 0.00 ms\n"
     ]
    }
   ],
   "source": [
    "from functools import wraps\n",
    "import time\n",
    "\n",
    "def benchmark(method):\n",
    "    \n",
    "    @wraps(method)\n",
    "    def timed(*args, **kw):\n",
    "        ts = time.time()\n",
    "        result = method(*args, **kw)\n",
    "        te = time.time()\n",
    "        print(\"{0}: {1:0.2f} ms\".format(method.__name__, ((te-ts)*1000)))\n",
    "        return result\n",
    "    return timed\n",
    "\n",
    "def memo(func):\n",
    "    cache = {}\n",
    "    \n",
    "    @wraps(func)\n",
    "    def wrap(*args):\n",
    "        if args not in cache:\n",
    "            cache[args] = func(*args)\n",
    "        return cache[args]\n",
    "    return wrap\n",
    "\n",
    "def fib(n):\n",
    "    if n < 2:\n",
    "        return 1\n",
    "    else :\n",
    "        return fib(n-1) + fib(n-2)\n",
    "\n",
    "@memo\n",
    "def fib2(n):\n",
    "    if n < 2:\n",
    "        return 1\n",
    "    else :\n",
    "        return fib2(n-1) + fib2(n-2)\n",
    "    \n",
    "def fib3(m, n):\n",
    "    if m[n] == 0:\n",
    "        m[n] = fib3(m, n-1) + fib3(m, n-2)\n",
    "    return m[n]\n",
    "\n",
    "@benchmark\n",
    "def test_fib(n):\n",
    "    print(fib(n))\n",
    "    \n",
    "@benchmark\n",
    "def test_fib2(n):\n",
    "    print(fib2(n))\n",
    "    \n",
    "@benchmark\n",
    "def test_fib3(n):\n",
    "    m = [0]*(n+1)\n",
    "    m[0], m[1] = 1, 1\n",
    "    print(fib3(m, n))    \n",
    "    \n",
    "if __name__ == \"__main__\":\n",
    "    n = 35\n",
    "    test_fib(n)\n",
    "    test_fib2(n)\n",
    "    test_fib3(n)\n",
    "    "
   ]
  },
  {
   "cell_type": "markdown",
   "metadata": {},
   "source": [
    "### wraps 의 역할"
   ]
  },
  {
   "cell_type": "code",
   "execution_count": 30,
   "metadata": {},
   "outputs": [
    {
     "name": "stdout",
     "output_type": "stream",
     "text": [
      "f 호출\n",
      "결과: 30\n",
      "__name__: with_logging\n",
      "__doc__: with_logging() 함수\n",
      "-----------------------------------\n",
      "f2 호출\n",
      "결과: 30\n",
      "__name__: with_logging\n",
      "__doc__: with_logging() 함수\n",
      "-----------------------------------\n",
      "f3 호출\n",
      "결과: 30\n",
      "__name__: f3\n",
      "__doc__: 세 번째, wraps와 데커레이터 사용\n",
      "-----------------------------------\n"
     ]
    }
   ],
   "source": [
    "from functools import wraps\n",
    "\n",
    "def logged(func):\n",
    "    def with_logging(*args, **kwargs):\n",
    "        \"\"\"with_logging() 함수\"\"\"\n",
    "        print(func.__name__ + \" 호출\")\n",
    "        return func(*args, **kwargs)\n",
    "    return with_logging\n",
    "\n",
    "@logged\n",
    "def f(x):\n",
    "    \"\"\"첫 번째, 데커레이터 사용\"\"\"\n",
    "    return x+ x*x\n",
    "\n",
    "def f2(x):\n",
    "    \"\"\"두 번째, 데커레이터 사용\"\"\"\n",
    "    return x+ x*x\n",
    "\n",
    "def logged2(func):\n",
    "    @wraps(func)\n",
    "    def with_logging(*args, **kwargs):\n",
    "        print(func.__name__ + \" 호출\")\n",
    "        return func(*args, **kwargs)\n",
    "    return with_logging\n",
    "\n",
    "@logged2\n",
    "def f3(x):\n",
    "    \"\"\"세 번째, wraps와 데커레이터 사용\"\"\"\n",
    "    return x+ x*x\n",
    "\n",
    "if __name__ == \"__main__\":\n",
    "    print(\"결과: {0}\".format(f(5)))\n",
    "    print(\"__name__: {0}\".format(f.__name__))\n",
    "    print(\"__doc__: {0}\".format(f.__doc__))\n",
    "    print(\"-----------------------------------\")\n",
    "    f2 = logged(f2)\n",
    "    print(\"결과: {0}\".format(f2(5)))\n",
    "    print(\"__name__: {0}\".format(f2.__name__))\n",
    "    print(\"__doc__: {0}\".format(f2.__doc__))\n",
    "    print(\"-----------------------------------\")\n",
    "    print(\"결과: {0}\".format(f3(5)))\n",
    "    print(\"__name__: {0}\".format(f3.__name__))\n",
    "    print(\"__doc__: {0}\".format(f3.__doc__))\n",
    "    print(\"-----------------------------------\")\n",
    "    "
   ]
  },
  {
   "cell_type": "markdown",
   "metadata": {},
   "source": [
    "### Tree 의 구현"
   ]
  },
  {
   "cell_type": "code",
   "execution_count": 36,
   "metadata": {},
   "outputs": [
    {
     "name": "stdout",
     "output_type": "stream",
     "text": [
      "1\n",
      "2\n",
      "4\n",
      "5\n",
      "3\n",
      "6\n",
      "7\n",
      "--------------------\n",
      "4\n",
      "2\n",
      "5\n",
      "1\n",
      "6\n",
      "3\n",
      "7\n",
      "--------------------\n",
      "4\n",
      "5\n",
      "2\n",
      "6\n",
      "7\n",
      "3\n",
      "1\n"
     ]
    }
   ],
   "source": [
    "class Node:\n",
    "      def __init__(self, data):\n",
    "        self.data  = data\n",
    "        self.left  = None\n",
    "        self.right = None\n",
    "\n",
    "def  pre_order(temp):\n",
    "    if temp is None :\n",
    "        return\n",
    "    print(temp.data)\n",
    "    pre_order(temp.left)\n",
    "    pre_order(temp.right)\n",
    "\n",
    "def  in_order(temp):\n",
    "    if temp is None :\n",
    "        return\n",
    "    in_order(temp.left)\n",
    "    print(temp.data)\n",
    "    in_order(temp.right)\n",
    "\n",
    "def  post_order(temp):\n",
    "    if temp is None :\n",
    "        return\n",
    "    post_order(temp.left)\n",
    "    post_order(temp.right)    \n",
    "    print(temp.data)\n",
    "    \n",
    "root = Node(1)\n",
    "root.left = Node(2)\n",
    "root.right = Node(3)\n",
    "root.left.left = Node(4)\n",
    "root.left.right = Node(5)\n",
    "root.right.left = Node(6)\n",
    "root.right.right = Node(7)\n",
    "pre_order(root)\n",
    "print(\"-\"*20)\n",
    "in_order(root)\n",
    "print(\"-\"*20)\n",
    "post_order(root)"
   ]
  },
  {
   "cell_type": "code",
   "execution_count": 41,
   "metadata": {},
   "outputs": [
    {
     "name": "stdout",
     "output_type": "stream",
     "text": [
      "         7\n",
      "     3\n",
      "         6\n",
      " 1\n",
      "         5\n",
      "     2\n",
      "         4\n"
     ]
    }
   ],
   "source": [
    "class Node:\n",
    "      def __init__(self, data):\n",
    "        self.data  = data\n",
    "        self.left  = None\n",
    "        self.right = None\n",
    "\n",
    "def  display(temp, level=0):\n",
    "    if temp is None :\n",
    "        return\n",
    "    display(temp.right, level+1)\n",
    "    print( \" \"*level*4, temp.data)\n",
    "    display(temp.left, level+1)\n",
    "\n",
    "root = Node(1)\n",
    "root.left = Node(2)\n",
    "root.right = Node(3)\n",
    "root.left.left = Node(4)\n",
    "root.left.right = Node(5)\n",
    "root.right.left = Node(6)\n",
    "root.right.right = Node(7)\n",
    "display(root)\n"
   ]
  },
  {
   "cell_type": "code",
   "execution_count": 47,
   "metadata": {},
   "outputs": [
    {
     "name": "stdout",
     "output_type": "stream",
     "text": [
      "               1                        \n",
      "       2               3                \n",
      "   4       5       6       7            \n",
      "                                        \n",
      "                                        \n",
      "                                        \n",
      "                                        \n",
      "                                        \n",
      "                                        \n",
      "                                        \n"
     ]
    }
   ],
   "source": [
    "class Node:\n",
    "      def __init__(self, data):\n",
    "        self.data  = data\n",
    "        self.left  = None\n",
    "        self.right = None\n",
    "\n",
    "col=0\n",
    "def _display( a, temp, row=0):\n",
    "    global col\n",
    "    if temp is None :\n",
    "        return\n",
    "    _display(a, temp.left,  row+1)\n",
    "    a[row][col] = temp.data\n",
    "    col += 1\n",
    "    _display(a, temp.right, row+1)\n",
    "\n",
    "def  display(temp):\n",
    "    n=10\n",
    "    a = [ [0]*n for i in range(n) ]\n",
    "    _display( a, temp)\n",
    "    for i in range(n):\n",
    "        for j in range(n):\n",
    "            if a[i][j] != 0:\n",
    "                print( \"%4d\"%a[i][j] , end=\"\" )\n",
    "            else:\n",
    "                print( \"%4s\"%\" \" , end=\"\" )\n",
    "        print()\n",
    "\n",
    "root = Node(1)\n",
    "root.left = Node(2)\n",
    "root.right = Node(3)\n",
    "root.left.left = Node(4)\n",
    "root.left.right = Node(5)\n",
    "root.right.left = Node(6)\n",
    "root.right.right = Node(7)\n",
    "display(root)"
   ]
  },
  {
   "cell_type": "code",
   "execution_count": 56,
   "metadata": {},
   "outputs": [
    {
     "name": "stdout",
     "output_type": "stream",
     "text": [
      "   1                                    \n",
      "       2                                \n",
      "           3                            \n",
      "               4                        \n",
      "                   5                    \n",
      "                       6                \n",
      "                           7            \n",
      "                                        \n",
      "                                        \n",
      "                                        \n"
     ]
    }
   ],
   "source": [
    "class Node:\n",
    "      def __init__(self, data):\n",
    "        self.data  = data\n",
    "        self.left  = None\n",
    "        self.right = None\n",
    "\n",
    "col=0\n",
    "def _display( a, temp, row=0):\n",
    "    global col\n",
    "    if temp is None :\n",
    "        return\n",
    "    _display(a, temp.left,  row+1)\n",
    "    a[row][col] = temp.data\n",
    "    col += 1\n",
    "    _display(a, temp.right, row+1)\n",
    "\n",
    "def  display(temp):\n",
    "    global col\n",
    "    col = 0\n",
    "    n=10\n",
    "    a = [ [0]*n for i in range(n) ]\n",
    "    _display( a, temp)\n",
    "    for i in range(n):\n",
    "        for j in range(n):\n",
    "            if a[i][j] != 0:\n",
    "                print( \"%4d\"%a[i][j] , end=\"\" )\n",
    "            else:\n",
    "                print( \"%4s\"%\" \" , end=\"\" )\n",
    "        print()\n",
    "\n",
    "root = None\n",
    "def insert_data( data ):\n",
    "    global root\n",
    "    temp = None\n",
    "    prev = None\n",
    "    p = root\n",
    "\n",
    "    if root is None :\n",
    "        root = Node(data)\n",
    "        return\n",
    "     \n",
    "    temp = Node(data)\n",
    "    while p:\n",
    "        prev = p\n",
    "        if p.data > temp.data:\n",
    "            p = p.left\n",
    "        elif p.data < temp.data:\n",
    "            p = p.right\n",
    "        else :\n",
    "            return\n",
    "\n",
    "    if prev.data > temp.data:\n",
    "        prev.left = temp\n",
    "    else:\n",
    "        prev.right = temp\n",
    "\n",
    "a = [1, 2, 3, 4, 5, 6, 7]\n",
    "# display(root)\n",
    "# print(\"-\"*20)\n",
    "for data in a:\n",
    "    insert_data(data)\n",
    "#     display(root)\n",
    "#     print(\"-\"*20)\n",
    "display(root)"
   ]
  },
  {
   "cell_type": "code",
   "execution_count": null,
   "metadata": {},
   "outputs": [],
   "source": []
  }
 ],
 "metadata": {
  "kernelspec": {
   "display_name": "Python 3",
   "language": "python",
   "name": "python3"
  },
  "language_info": {
   "codemirror_mode": {
    "name": "ipython",
    "version": 3
   },
   "file_extension": ".py",
   "mimetype": "text/x-python",
   "name": "python",
   "nbconvert_exporter": "python",
   "pygments_lexer": "ipython3",
   "version": "3.7.6"
  }
 },
 "nbformat": 4,
 "nbformat_minor": 4
}
