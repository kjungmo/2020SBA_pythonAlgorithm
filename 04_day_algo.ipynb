{
 "cells": [
  {
   "cell_type": "markdown",
   "metadata": {},
   "source": [
    "* spin lock 스핀락은 lock()안에서 계속 돌게 된다. \n",
    "> 프로세스가 사용하려는 lock을 타 프로세스 사용 시 명령어 루프를 실행하며 대기하는 locking 매커니즘\n",
    "\n",
    "    - Lock을 얻을 수 없다면, 계속 해서 Lock을 확인하며 얻을 때까지 기다린다는 것. Lock이 곧 사용 가능해질 경우 Context Switching을 줄여 cpu의 부담을 덜어준다. 하지만 만약 어떤 스레드가 lock을 오랫동안 유지한다면 오히려 cpu시간을 많이 소모할 가능성이 있다. (비효율적)\n",
    "    \n",
    "\n",
    "* sleep lock 슬립락의 경우 큐를 이용한다. \n",
    "    - 비교적 장시간 락을 유지한다. 슬립락은 즉각 cpu를 양보한다. 제어권을 넘겨주고는 wait queue로 간다. unlock()에 wakeup 코드가 들어가있다\n",
    "    \n",
    "    - 슬립락의 경우 뮤텍스를 떠올릴 수 있다. Mutual Exclusion( 상호 배타)로 하나가 임계영역(Critical Section)에 들어가면 다른 하나는 들어가지 못한다. \n",
    "    \n",
    "    - 하지만 그렇다고 언제나 sleep lock이 유리한 것은 아니다.. cpu 할당해주는 기능이나 코드가 길 수도 있기 때문이다\n",
    "    \n",
    "* 임계영역(Critical Section) 코드가 짧으면 spin lock이 유리, 길면 sleep lock이 유리하다"
   ]
  },
  {
   "cell_type": "markdown",
   "metadata": {},
   "source": [
    "###  세마포어\n",
    "\n",
    "세마포어는 뮤텍스보다 더 일반적으로 사용되는 개념\n",
    "* 세마포어 값은 곧 한 번에 자원에 접근할 수 있는 스레드의 수다. \n",
    "    - 세마포어 연산에서 남아있는 자원의 수는 곧 공유변수를 의미한다.\n",
    "    - 세마포어는 threading 모듈을 import 해야 한다.\n",
    "    \n",
    "    \n",
    "* P 연산 \n",
    "    - P는 임계영역으로 진입하다 라는 뜻으로 임계영역으로 들어가면서 자원수(공유변수)는 감소하는 연산이다\n",
    "    \n",
    "* V연산 : P연산과 반대로 임계영역에서 나오면서 자원수(공유변수)는 증가시키는 연산이다\n",
    "\n",
    "* 스레드 풀 \n",
    "    - 스레드 풀은 스레드를 미리 여러개 만들어 놓고 worker thread로 대기타게 해두는 것이다\n",
    "    \n",
    "* 데드락 (dead lock) : 생각하는 철학자\n",
    "    - 락을 소팅된 순서로 언락한다. 데드락은 회피하는게 답이다. "
   ]
  },
  {
   "cell_type": "code",
   "execution_count": 103,
   "metadata": {
    "scrolled": true
   },
   "outputs": [
    {
     "name": "stdout",
     "output_type": "stream",
     "text": [
      "획득: 스레드 0 | 스레드풀: ['스레드 0']\n",
      "획득: 스레드 1 | 스레드풀: ['스레드 0', '스레드 1']\n",
      "획득: 스레드 2 | 스레드풀: ['스레드 0', '스레드 1', '스레드 2']\n",
      "반환: 스레드 0 | 스레드풀: ['스레드 1', '스레드 2']\n",
      "획득: 스레드 3 | 스레드풀: ['스레드 1', '스레드 2', '스레드 3']\n",
      "반환: 스레드 1 | 스레드풀: ['스레드 2', '스레드 3']\n",
      "획득: 스레드 4 | 스레드풀: ['스레드 2', '스레드 3', '스레드 4']\n",
      "반환: 스레드 2 | 스레드풀: ['스레드 3', '스레드 4']\n",
      "획득: 스레드 5 | 스레드풀: ['스레드 3', '스레드 4', '스레드 5']\n",
      "반환: 스레드 3 | 스레드풀: ['스레드 4', '스레드 5']\n",
      "획득: 스레드 6 | 스레드풀: ['스레드 4', '스레드 5', '스레드 6']\n",
      "반환: 스레드 4 | 스레드풀: ['스레드 5', '스레드 6']\n",
      "획득: 스레드 7 | 스레드풀: ['스레드 5', '스레드 6', '스레드 7']\n",
      "반환: 스레드 5 | 스레드풀: ['스레드 6', '스레드 7']\n",
      "획득: 스레드 8 | 스레드풀: ['스레드 6', '스레드 7', '스레드 8']\n",
      "반환: 스레드 6 | 스레드풀: ['스레드 7', '스레드 8']\n",
      "획득: 스레드 9 | 스레드풀: ['스레드 7', '스레드 8', '스레드 9']\n",
      "반환: 스레드 7 | 스레드풀: ['스레드 8', '스레드 9']\n",
      "반환: 스레드 8 | 스레드풀: ['스레드 9']\n",
      "반환: 스레드 9 | 스레드풀: []\n"
     ]
    }
   ],
   "source": [
    "import threading\n",
    "import time\n",
    "\n",
    "class ThreadPool(object):\n",
    "    def __init__(self): #생성자에서 락킹 지원\n",
    "        self.active = []\n",
    "        self.lock = threading.Lock() \n",
    "        \n",
    "    def acquire(self, name): #락을 획득하는 것은 락을 거는 것.\n",
    "        with self.lock: # 이것을 오토락이라고 함 맨처음 진입하는 애에 대해 락을 획득\n",
    "            self.active.append(name)\n",
    "            print(\"획득: {0} | 스레드풀: {1}\".format(name, self.active))\n",
    "            \n",
    "    def release(self, name): #락을 풀때 지원.\n",
    "        with self.lock: \n",
    "            self.active.remove(name)\n",
    "            print(\"반환: {0} | 스레드풀: {1}\".format(name, self.active))         \n",
    "            \n",
    "def worker(semaphore, pool):\n",
    "    with semaphore: #여기서 세마포어의\n",
    "        name = threading.currentThread().getName() #임계영역으로 3개만 들어가는 것, 들어온 이름 뽑아내기 위해 겟네임\n",
    "        pool.acquire(name) # 임계영역에 들어가서\n",
    "        time.sleep(1)# 1초 있다가 임계영역에서\n",
    "        pool.release(name) #이러면 빠져나온다\n",
    "            \n",
    "if __name__ == \"__main__\":\n",
    "    \n",
    "    threads = []\n",
    "    pool = ThreadPool()\n",
    "    semaphore = threading.Semaphore(3) #임계영역에 3개 들어갈 수 있게 설정\n",
    "    for i in range(10):\n",
    "        t = threading.Thread( target=worker, name=\"스레드 \"+str(i), args=(semaphore,pool))#세마포어와 스레드 풀을 만들어서 넘겨주는것) # 스레딩 만드는 것\n",
    "        t.start() # 기동 시키고\n",
    "        threads.append(t) #\n",
    "        \n",
    "    for t in threads:\n",
    "        t.join() #모든 스레드가 종료할 때 까지 메인스레드는 대기탄다"
   ]
  },
  {
   "cell_type": "markdown",
   "metadata": {},
   "source": [
    "## +++++++++++++++++++++++++++++++++ "
   ]
  },
  {
   "cell_type": "markdown",
   "metadata": {},
   "source": [
    "## +++++++++++++++++++++++++++++++++ "
   ]
  },
  {
   "cell_type": "markdown",
   "metadata": {},
   "source": [
    "## +++++++++++++++++++++++++++++++++ "
   ]
  },
  {
   "cell_type": "markdown",
   "metadata": {},
   "source": [
    "### 파이썬 멀티 스레드와 멀티 프로세스\n",
    "> 파이썬은 인터프리터 언어로서 기본적으로 싱글 스레드에서 순차적으로 동작한다. 따라서 병렬처리를 하기 위해서는 별도의 모듈을 사용하여 구현해야함. threading모듈을 이용한 스레드 구현과 multiprocessing모듈을 이용한 프로세스 구현을 보고자 함\n",
    "\n",
    "#### threading 모듈로 멀티스레드 구현\n",
    "* 파이썬에서 멀티 스레드를 구현하는 방법은 threading모듈이나 thread모듈을 사용하는 것이다.(현재 thread모듈은 deprecated)\n",
    "\n",
    "```python\n",
    "\n",
    "from threading import Thread\n",
    "\n",
    "def work(id, start, end, result):\n",
    "    total = 0\n",
    "    for i in range(start, end):\n",
    "        total += i\n",
    "    result.append(total)\n",
    "    return\n",
    "\n",
    "if __name__ == \"__main__\":\n",
    "    START, END = 0, 1000000\n",
    "    result = list()\n",
    "    th1 = Thread(target = work, args=(1, START, END, result))\n",
    "    \n",
    "    th1.start()\n",
    "    th1.join()\n",
    "    \n",
    "print(\"Result: {sum(result)}\".format)\n",
    "\n",
    "```\n",
    ">Result: 499999500000 \n",
    "\n",
    "스레드는 threading 모듈의 Thread함수로 스레드 객체를 받아 사용한다. target은 스레드가 실행할 함수, args는 그 함수의 인자들을 의미한다. start함수로 스레드를 시작하고 join함수로 스레드가 끝날 때까지 기다린다. \n",
    "\n",
    "이번엔 스레드를 추가해서 병렬로 동작하는 코드이다\n",
    "\n",
    "```python\n",
    "\n",
    "from threading import Thread\n",
    "\n",
    "def work(id, start, end, result):\n",
    "    total = 0\n",
    "    for i in range(start, end):\n",
    "        total += i\n",
    "    result.append(total)\n",
    "    return\n",
    "\n",
    "if __name__ == \"__main__\":\n",
    "    START, END = 0, 1000000\n",
    "    result = list()\n",
    "    th1 = Thread(target = work, args=(1, START, END//2, result))\n",
    "    th2 = Thread(target = work, args=(2, END//2, END, result))\n",
    "    \n",
    "    th1.start()\n",
    "    th2.start()\n",
    "    th1.join()\n",
    "    th2.join()\n",
    "    \n",
    "print(f\"Result: {sum(result)}\")\n",
    "\n",
    "```\n",
    ">Result: 499999500000\n",
    "\n",
    "th2를 추가했고, 스레드에서 실행되는 함수에 들어가는 인자를 절반씩 나누어 입력하여 따로 계산하도록 했다. 이 코드를 실행하면 하나의 프로세스에서 동작하지만 여러 cpu를 갖고 있따면 스레드가 적절히 분산되어 병렬처리 할 것이다.\n",
    "\n",
    "위에서 하나의 스레드로 동작시킨 것과 실행 시간이 별반 다르지 않음을 알 수 있다\n",
    "\n",
    "이는 파이썬의 GIL 정책 때문이다\n",
    "\n",
    "#### GIL (Global Interpreter Lock)\n",
    "\n",
    "언어에서 자원을 보호하기 위해 락(Lock)정책을 사용하고 그 방법 또한 다양하다. 파이썬에서는 하나의 프로세스 안에 모든 자원의 락(Lock)을 글로벌(Global)하게 관리함으로써 한 번에 하나의 스레드만 자원을 컨트롤하여 동작하도록 한다.\n",
    "\n",
    "위의 코드에서 result라는 자원을 공유하는 두 개의 스레드를 동시에 실행시키지만 결국 GIL때문에 한번에 하나의 스레드만 계산을 실행하여 실행 시간이 비슷한 것이다\n",
    "\n",
    "GIL 덕분에 자원관리를 더 쉽게 구현할 수 있었다. 지금처럼 멀티코어가 당연한 시대에서는 파이썬의 스레드가 쓸모 없는 것은 아니다. GIL이 적용되는 것은 CPU동작에서이고 스레드가 CPU동작을 마치고 I/O작업을 실행하는 동안에는 다른 스레드가 CPU 동작을 동시에 실행할 수 있다. 따라서 CPU동작이 많지 않고 I/O동작이 더 많은 프로그램에서는 멀티 스레드만으로 성능적으로 큰 효과를 얻을 수 있다.\n",
    "\n",
    "### Multiprocessing 모듈로 멀티 프로세스 구현하기\n",
    "이러한 상황에서 계산을 병렬로 처리하는데 도움을 주는 것이 바로 multiprocessing모듈이다. multiprocessing모듈은 스레드 대신 프로세스를 만들어 병렬로 동작한다. \n",
    "\n",
    "```python\n",
    "\n",
    "from multiprocessing import Process, Queue\n",
    "\n",
    "def work(id, start, end, result):\n",
    "    total = 0\n",
    "    for i in range(start, end):\n",
    "        total += i\n",
    "    result.put(total)\n",
    "    return\n",
    "\n",
    "if __name__ == \"__main__\":\n",
    "    START, END = 0, 1000000\n",
    "    result = Queue()\n",
    "    th1 = Process(target = work, args=(1, START, END//2, result))\n",
    "    th2 = Process(target = work, args=(2, END//2, END, result))\n",
    "    \n",
    "    th1.start()\n",
    "    th2.start()\n",
    "    th1.join()\n",
    "    th2.join()\n",
    "    \n",
    "    result.put('STOP')\n",
    "    total = 0\n",
    "    while True:\n",
    "        tmp = result.get()\n",
    "        if tmp == 'STOP':\n",
    "            break\n",
    "        else:\n",
    "            total += tmp\n",
    "            \n",
    "print(f\"Result: {total}\")\n",
    "\n",
    "```\n",
    "> Result: 0\n",
    "\n",
    "multiprocessing 모듈의 가장 큰 장점은 threading 모듈과 구현 방식이 거의 같아서 기존에 스레드 방식으로 구현한 코드를 쉽게 이식할 수 있다는 점이다. 위의 코드에서 변경된 것은 Thread 함수 -> Process함수, result로 Queue객체를 사용한 것 뿐. \n",
    "\n",
    "프로세스는 각자가 고유한 메모리 영역을 가지기 때문에 스레드에 비하면 메모리 사용이 늘어난다는 단점이 있지만, 이 방식을 통해 싱글 머신 아키텍처로부터 여러 머신을 사용하는 분산 애플리케이션으로 쉽게 전환할 수 있다\n",
    "\n",
    "각각의 프로세스가 자신만의 메모리 공간을 사용하기 때문에 프로세스간 데이터 교환을 위해 multiprocessing.Queue 객체를 사용해야 한다. multiprocessing모듈에서는 Queue 이외에도 Pipe 객체를 지원하여 데이터 교환을 돕는다. \n",
    "\n",
    "\n",
    "### Thread vs Process \n",
    "\n",
    "파이썬에서 병렬처리를 구현하는 방식은 두가지로 멀티 스레드를 사용하거나 멀티 프로세스를 사용하는 것이다. 스레드는 가볍지만 GIL로 인해 계산 처리를 하는 작업은 한번에 하나의 스레드에서만 작동하여 CPU 작업이 적고, I/O 작업이 많은 병렬 처리 프로그램에서 효과를 볼 수 있음\n",
    "\n",
    "프로세스는 각자가 고유한 메모리 영역을 가지기 때문에 더 많은 메모리를 필요로 하지만, 각각 프로세스에서 병렬로 CPU작업을 할 수 있고, 이를 이용해 여러 머신에서 동작하는 분산 처리 시스템으로도 구현할 수 있다\n",
    "\n",
    "\n",
    "## 중요!!!!\n",
    "* THREAD\n",
    "    - threading 모듈 이용. import threading\n",
    "    - threading에서 내장 모듈인 Thread를 상속받음\n",
    "    - threading.Thread 클래스를 상속받는 클래스를 만들어서 run()하여 객체 생성\n",
    "    - MyThread 로 생성된 객체를 start()메소드를 실행할 때 run메소드가 자동으로 수행\n",
    "    - thread 객체 생성 후 start() 메소드를 통해 thread 객체 실행\n",
    "    - target 은 스레드로 돌릴 함수, args는 입력 인자\n",
    "    - join() 메소드를 통해 스레드가 끝날 때까지 기다림\n",
    "    \n",
    "    \n",
    "```python\n",
    "from threading import Thread\n",
    "import time\n",
    "\n",
    "def my_thread(val):\n",
    "    for i in range(3):\n",
    "        pring(\"I'm Thread\")\n",
    "        time.sleep(2)\n",
    "        \n",
    "## 인스턴스 만들기\n",
    "## 첫번째 argu는 스레드 함수 이름, 두번째 argu는 매개변수를 tuple형태로 전달한 것.\n",
    "t1 = Thread(target = my_thread, args=(1,))\n",
    "\n",
    "## 스레드 시작.\n",
    "t1.start()\n",
    "\n",
    "## main\n",
    "for i in range(3):\n",
    "    print(\"I'm main Thread\")\n",
    "    time.sleep(1)\n",
    "print(\"---- the end ----\")\n",
    "```\n",
    "\n",
    "join()함수를 추가하면 스레드가 종료될 때 까지 기다린 것을 볼 수 있다\n",
    "join()함수를 main함수 전에 써주면 자식 스레드가 다 출력된 후 메인이 출력된 것을 확인할 수 있다"
   ]
  },
  {
   "cell_type": "code",
   "execution_count": 82,
   "metadata": {},
   "outputs": [
    {
     "name": "stdout",
     "output_type": "stream",
     "text": [
      "Result: 499999500000\n"
     ]
    }
   ],
   "source": [
    "from threading import Thread\n",
    "\n",
    "def work(id, start, end, result):\n",
    "    total = 0\n",
    "    for i in range(start, end):\n",
    "        total += i\n",
    "    result.append(total)\n",
    "    return\n",
    "\n",
    "if __name__ == \"__main__\":\n",
    "    START, END = 0, 1000000\n",
    "    result = list()\n",
    "    th1 = Thread(target = work, args=(1, START, END, result))\n",
    "    \n",
    "    th1.start()\n",
    "    th1.join()\n",
    "    \n",
    "print(f\"Result: {sum(result)}\")"
   ]
  },
  {
   "cell_type": "code",
   "execution_count": 86,
   "metadata": {},
   "outputs": [
    {
     "name": "stdout",
     "output_type": "stream",
     "text": [
      "Result: 499999500000\n"
     ]
    }
   ],
   "source": [
    "from threading import Thread\n",
    "\n",
    "def work(id, start, end, result):\n",
    "    total = 0\n",
    "    for i in range(start, end):\n",
    "        total += i\n",
    "    result.append(total)\n",
    "    return\n",
    "\n",
    "if __name__ == \"__main__\":\n",
    "    START, END = 0, 1000000\n",
    "    result = list()\n",
    "    th1 = Thread(target = work, args=(1, START, END//2, result))\n",
    "    th2 = Thread(target = work, args=(2, END//2, END, result))\n",
    "    \n",
    "    th1.start()\n",
    "    th2.start()\n",
    "    th1.join()\n",
    "    th2.join()\n",
    "    \n",
    "print(f\"Result: {sum(result)}\")"
   ]
  },
  {
   "cell_type": "code",
   "execution_count": 93,
   "metadata": {},
   "outputs": [
    {
     "name": "stdout",
     "output_type": "stream",
     "text": [
      "Result: 0\n"
     ]
    }
   ],
   "source": [
    "from multiprocessing import Process, Queue\n",
    "\n",
    "def work(id, start, end, result):\n",
    "    total = 0\n",
    "    for i in range(start, end):\n",
    "        total += i\n",
    "    result.put(total)\n",
    "    return\n",
    "\n",
    "if __name__ == \"__main__\":\n",
    "    START, END = 0, 1000000\n",
    "    result = Queue()\n",
    "    th1 = Process(target = work, args=(1, START, END//2, result))\n",
    "    th2 = Process(target = work, args=(2, END//2, END, result))\n",
    "    \n",
    "    th1.start()\n",
    "    th2.start()\n",
    "    th1.join()\n",
    "    th2.join()\n",
    "    \n",
    "    result.put('STOP')\n",
    "    total = 0\n",
    "    while True:\n",
    "        tmp = result.get()\n",
    "        if tmp == 'STOP':\n",
    "            break\n",
    "        else:\n",
    "            total += tmp\n",
    "            \n",
    "print(f\"Result: {total}\")"
   ]
  },
  {
   "cell_type": "code",
   "execution_count": 100,
   "metadata": {},
   "outputs": [
    {
     "name": "stdout",
     "output_type": "stream",
     "text": [
      "I'm ThreadI'm main Thread\n",
      "\n",
      "I'm main Thread\n",
      "I'm main Thread\n",
      "I'm Thread\n",
      "---- the end ----\n",
      "I'm Thread\n"
     ]
    }
   ],
   "source": [
    "from threading import Thread\n",
    "import time\n",
    "\n",
    "def my_thread(val):\n",
    "    for i in range(3):\n",
    "        print(\"I'm Thread\")\n",
    "        time.sleep(2)\n",
    "        \n",
    "## 인스턴스 만들기\n",
    "## 첫번째 argu는 스레드 함수 이름, 두번째 argu는 매개변수를 tuple형태로 전달한 것.\n",
    "t1 = Thread(target = my_thread, args=(1,))\n",
    "\n",
    "## 스레드 시작.\n",
    "t1.start()\n",
    "\n",
    "## main\n",
    "if __name__ == \"__main__\":\n",
    "    for i in range(3):\n",
    "        print(\"I'm main Thread\")\n",
    "        time.sleep(1)\n",
    "    print(\"---- the end ----\")"
   ]
  },
  {
   "cell_type": "code",
   "execution_count": 102,
   "metadata": {},
   "outputs": [
    {
     "name": "stdout",
     "output_type": "stream",
     "text": [
      "I'm Thread\n",
      "I'm main Thread\n",
      "I'm main Thread\n",
      "I'm ThreadI'm main Thread\n",
      "\n",
      "---- the end ----\n",
      "I'm Thread\n"
     ]
    }
   ],
   "source": [
    "from threading import Thread\n",
    "import time\n",
    "\n",
    "def my_thread(val):\n",
    "    for i in range(3):\n",
    "        print(\"I'm Thread\")\n",
    "        time.sleep(2)\n",
    "        \n",
    "#인스턴스 만들기\n",
    "# 첫번째 argu는 스레드 함수 이름, 두번째 argu는 매개변수를 튜플 형태로 전달한 것\n",
    "t1 = Thread(target = my_thread, args=(1,))\n",
    "\n",
    "#스레드 시작\n",
    "t1.start()\n",
    "\n",
    "\n",
    "if __name__ == \"__main__\":\n",
    "    for i in range(3):\n",
    "        print(\"I'm main Thread\")\n",
    "        time.sleep(1)\n",
    "    print(\"---- the end ----\")\n",
    "    t1.join()\n"
   ]
  },
  {
   "cell_type": "markdown",
   "metadata": {},
   "source": [
    "### threading 모듈\n",
    "\n",
    "* 파이썬에서 쓰레드를 실행하기 위해서는 threading 모듈의 threading.Thread()함수를 호출하여 Thread객체를 얻은 후 Thread객체의 start()메서드를 호출하면 된다. subthread는 함수 혹은 메서드를 실행하는데, 일반적인 구현방식으로 1)쓰레드가 실행할 함수 혹은 메서드를 작성하거나 또는 2)threading.Thread로부터 파생된 파생클래스를 작성하여 사용하는 방식등이 있다.\n",
    "\n",
    "    - 1) 함수 및 메서드 실행 방식은 스레드가 실행할 함수(혹은 메서드)를 작성하고 그 함수명을 threading.Thread()함수의 target arguments 에 지정하면 된다. 만약 스레드가 실행하는 함수(혹은 메서드)에 입력 parameter를 전달해야 한다면, args(혹은 kwargs)에 필요한 parameter를 지정하면 된다. args는 튜플로 파라미터를 전달하고 kwargs는 dict로 전달한다. "
   ]
  },
  {
   "cell_type": "markdown",
   "metadata": {},
   "source": [
    "## =============================="
   ]
  },
  {
   "cell_type": "markdown",
   "metadata": {},
   "source": [
    "## =============================="
   ]
  },
  {
   "cell_type": "markdown",
   "metadata": {},
   "source": [
    "## =============================="
   ]
  },
  {
   "cell_type": "markdown",
   "metadata": {},
   "source": [
    "## =============================="
   ]
  },
  {
   "cell_type": "markdown",
   "metadata": {},
   "source": [
    "### 생산자 소비자의 문제 p163\n",
    "\n",
    "* 데드락(교착상태) deadlock은 두 개 이상의 프로세스나 스레드가 서로 상대방의 작업이 끝나기만을 기다리고 있기 때문에 결과적으로 아무것도 완료되지 못하는 상태다\n",
    "    - 프로그램에서 락을 할당하고, 락을 순서대로 획득한다면 교착 상태를 막을 수 있다\n",
    "    \n",
    "* 스핀락 spinlock은 고성능 컴퓨팅 상황에 유용한 busy waiting의 한 형태다\n",
    "    - 스핀락은 Critical Section에 진입이 불가능할 때, 진입이 가능할 때까지 반복문을 돌면서 재시도 하는 방식으로 구현된 락이다\n",
    "    \n",
    "    \n",
    "* queue모듈의 Queue데이터 타입을 스레드 간 데이터를 전달하는 기본 방식으로 사용한다. \n",
    "    - 그렇지 않으면 threading모듈의 락을 사용한다. threading.Condition을 사용할 수 있도록 조건변수를 적절하게 사용하는 방법을 숙지한다. 조건변수를 사용하면 스레드가 순번을 제어할 수 있다.  아래 예제는 순번제어에 목적이 있다."
   ]
  },
  {
   "cell_type": "code",
   "execution_count": 8,
   "metadata": {},
   "outputs": [
    {
     "name": "stdout",
     "output_type": "stream",
     "text": [
      "소비자1 시작\n",
      "소비자1 대기\n",
      "소비자2 시작\n",
      "소비자2 대기\n",
      "생산자 시작\n",
      "생산자 자원 생산 후 모든 소비자에게 알림\n",
      "소비자1 자원 소비\n",
      "소비자2 자원 소비\n"
     ]
    }
   ],
   "source": [
    "import threading\n",
    "\n",
    "def consumer(cond):\n",
    "    name = threading.currentThread().getName() \n",
    "    print(\"{0} 시작\".format(name))#시작과 대기와 소비에 대한 print\n",
    "    with cond:\n",
    "        print(\"{0} 대기\".format(name))\n",
    "        cond.wait() # 생산된게 없으면 여기서 대기하게 되고 깨어나면\n",
    "        print(\"{0} 자원 소비\".format(name))\n",
    "        \n",
    "def producer(cond):\n",
    "    name = threading.currentThread().getName() \n",
    "    print(\"{0} 시작\".format(name))#시작과 대기와 소비에 대한 print\n",
    "    with cond:\n",
    "        print(\"{0} 자원 생산 후 모든 소비자에게 알림\".format(name))\n",
    "        cond.notifyAll() #대기타고 있는 모든 스레드에게 생산을 알림\n",
    "\n",
    "\n",
    "if __name__ == \"__main__\":\n",
    "    \n",
    "    condition = threading.Condition() #컨디션은 인자가 없다\n",
    "    consumer1 = threading.Thread( target=consumer, name=\"소비자1\", args=(condition,))#args는 동기화 제어\n",
    "    consumer2 = threading.Thread( target=consumer, name=\"소비자2\", args=(condition,))\n",
    "    producer = threading.Thread( target=producer, name=\"생산자\", args=(condition,)) #소비자와의 통신 목적으로 사용된다\n",
    "    \n",
    "    consumer1.start() #시작해도 대기타게 됨\n",
    "    consumer2.start() # 마찬가지다\n",
    "    producer.start() #시작해서 생산하면 기동한다 \n",
    "    "
   ]
  },
  {
   "cell_type": "markdown",
   "metadata": {},
   "source": [
    "###  프로파일러\n",
    "\n",
    "cProfile 모듈은 호출 시간에 대한 세부 분석을 제공하며, 병목현상bottleneck을 찾는데 사용된다. "
   ]
  },
  {
   "cell_type": "code",
   "execution_count": 14,
   "metadata": {},
   "outputs": [
    {
     "name": "stdout",
     "output_type": "stream",
     "text": [
      "Hello world!\n",
      "Hello world!\n",
      "         70 function calls in 3.009 seconds\n",
      "\n",
      "   Ordered by: standard name\n",
      "\n",
      "   ncalls  tottime  percall  cumtime  percall filename:lineno(function)\n",
      "        1    0.000    0.000    3.009    3.009 <ipython-input-14-ec60c9bc125a>:10(main)\n",
      "        1    0.000    0.000    3.009    3.009 <ipython-input-14-ec60c9bc125a>:4(sleep)\n",
      "        2    0.000    0.000    0.000    0.000 <ipython-input-14-ec60c9bc125a>:7(hello_world)\n",
      "        1    0.000    0.000    3.009    3.009 <string>:1(<module>)\n",
      "        5    0.000    0.000    0.000    0.000 iostream.py:197(schedule)\n",
      "        4    0.000    0.000    0.000    0.000 iostream.py:309(_is_master_process)\n",
      "        4    0.000    0.000    0.000    0.000 iostream.py:322(_schedule_flush)\n",
      "        4    0.000    0.000    0.000    0.000 iostream.py:384(write)\n",
      "        5    0.000    0.000    0.000    0.000 iostream.py:93(_event_pipe)\n",
      "        5    0.000    0.000    0.000    0.000 socket.py:342(send)\n",
      "        5    0.000    0.000    0.000    0.000 threading.py:1050(_wait_for_tstate_lock)\n",
      "        5    0.000    0.000    0.000    0.000 threading.py:1092(is_alive)\n",
      "        5    0.000    0.000    0.000    0.000 threading.py:507(is_set)\n",
      "        1    0.000    0.000    3.009    3.009 {built-in method builtins.exec}\n",
      "        4    0.000    0.000    0.000    0.000 {built-in method builtins.isinstance}\n",
      "        2    0.000    0.000    0.000    0.000 {built-in method builtins.print}\n",
      "        4    0.000    0.000    0.000    0.000 {built-in method nt.getpid}\n",
      "        1    3.009    3.009    3.009    3.009 {built-in method time.sleep}\n",
      "        5    0.000    0.000    0.000    0.000 {method 'acquire' of '_thread.lock' objects}\n",
      "        5    0.000    0.000    0.000    0.000 {method 'append' of 'collections.deque' objects}\n",
      "        1    0.000    0.000    0.000    0.000 {method 'disable' of '_lsprof.Profiler' objects}\n",
      "\n",
      "\n"
     ]
    }
   ],
   "source": [
    "import cProfile\n",
    "import time\n",
    "\n",
    "def sleep():\n",
    "    time.sleep(5)\n",
    "\n",
    "def hello_world():\n",
    "    print(\"Hello world!\")\n",
    "    \n",
    "def main():\n",
    "    sleep()\n",
    "    hello_world()\n",
    "    \n",
    "cProfile.run('main()')"
   ]
  },
  {
   "cell_type": "code",
   "execution_count": 15,
   "metadata": {},
   "outputs": [
    {
     "name": "stdout",
     "output_type": "stream",
     "text": [
      "Hello world!\n",
      "Hello world!\n",
      "         70 function calls in 5.014 seconds\n",
      "\n",
      "   Ordered by: standard name\n",
      "\n",
      "   ncalls  tottime  percall  cumtime  percall filename:lineno(function)\n",
      "        1    0.000    0.000    5.014    5.014 <ipython-input-15-1fb640dec76d>:10(main)\n",
      "        1    0.000    0.000    5.014    5.014 <ipython-input-15-1fb640dec76d>:4(sleep)\n",
      "        2    0.000    0.000    0.000    0.000 <ipython-input-15-1fb640dec76d>:7(hello_world)\n",
      "        1    0.000    0.000    5.014    5.014 <string>:1(<module>)\n",
      "        5    0.000    0.000    0.000    0.000 iostream.py:197(schedule)\n",
      "        4    0.000    0.000    0.000    0.000 iostream.py:309(_is_master_process)\n",
      "        4    0.000    0.000    0.000    0.000 iostream.py:322(_schedule_flush)\n",
      "        4    0.000    0.000    0.000    0.000 iostream.py:384(write)\n",
      "        5    0.000    0.000    0.000    0.000 iostream.py:93(_event_pipe)\n",
      "        5    0.000    0.000    0.000    0.000 socket.py:342(send)\n",
      "        5    0.000    0.000    0.000    0.000 threading.py:1050(_wait_for_tstate_lock)\n",
      "        5    0.000    0.000    0.000    0.000 threading.py:1092(is_alive)\n",
      "        5    0.000    0.000    0.000    0.000 threading.py:507(is_set)\n",
      "        1    0.000    0.000    5.014    5.014 {built-in method builtins.exec}\n",
      "        4    0.000    0.000    0.000    0.000 {built-in method builtins.isinstance}\n",
      "        2    0.000    0.000    0.000    0.000 {built-in method builtins.print}\n",
      "        4    0.000    0.000    0.000    0.000 {built-in method nt.getpid}\n",
      "        1    5.014    5.014    5.014    5.014 {built-in method time.sleep}\n",
      "        5    0.000    0.000    0.000    0.000 {method 'acquire' of '_thread.lock' objects}\n",
      "        5    0.000    0.000    0.000    0.000 {method 'append' of 'collections.deque' objects}\n",
      "        1    0.000    0.000    0.000    0.000 {method 'disable' of '_lsprof.Profiler' objects}\n",
      "\n",
      "\n"
     ]
    }
   ],
   "source": [
    "import cProfile\n",
    "import time\n",
    "\n",
    "def sleep():\n",
    "    time.sleep(5)\n",
    "\n",
    "def hello_world():\n",
    "    print(\"Hello world!\")\n",
    "    \n",
    "def main():\n",
    "    sleep()\n",
    "    hello_world()\n",
    "    hello_world() #ncalls가 2가 된다. 호출이 두번 되는 거라서\n",
    "    \n",
    "cProfile.run('main()')"
   ]
  },
  {
   "cell_type": "markdown",
   "metadata": {},
   "source": [
    "### 스택 만들기 "
   ]
  },
  {
   "cell_type": "code",
   "execution_count": 20,
   "metadata": {},
   "outputs": [
    {
     "name": "stdout",
     "output_type": "stream",
     "text": [
      "[]\n",
      "[0, 1, 2, 3, 4, 5, 6, 7, 8, 9]\n",
      "pop : 9\n",
      "pop : 8\n"
     ]
    }
   ],
   "source": [
    "class Stack(object):\n",
    "    def __init__(self):\n",
    "        self.items = []\n",
    "        \n",
    "    def isEmpty(self):\n",
    "        return not bool(self.items) #리스트가 비어있을 때만 True리턴\n",
    "    \n",
    "    def push(self, value):\n",
    "        self.items.append(value)\n",
    "        \n",
    "    def pop(self): #인자를 뽑지 않아도 리턴만 하면 됨\n",
    "        value = self.items.pop()\n",
    "        if value is not None: #데이터가 있다면\n",
    "            return value\n",
    "        else: #비어있는 경우\n",
    "            print(\"Stack is empty\")\n",
    "            \n",
    "    def size(self):\n",
    "        return len(self.items) #items의 원소의 갯수 센다\n",
    "    \n",
    "    def peek(self):\n",
    "        if self.items:\n",
    "            return self.items[-1]\n",
    "        else:\n",
    "            print(\"Stack is empty.\")\n",
    "            \n",
    "    def __repr__(self):\n",
    "        return repr(self.items)\n",
    "    \n",
    "if __name__ == \"__main__\":\n",
    "    stack = Stack() #stack이라는 Stack 클래스 객체를 생성\n",
    "    print(stack) #데이터 넣기 전 -> 생성자가 호출됨\n",
    "    for i in range(10):\n",
    "        stack.push(i)\n",
    "    print(stack) #넣은 후 , 가장 밑에 0이 있게 됨\n",
    "    print(\"pop : {0}\".format(stack.pop())) #마지막 숫자인 9, 최종숫자라 뽑혀나옴\n",
    "    print(\"pop : {0}\".format(stack.pop())) #스텍이구나!\n",
    "    "
   ]
  },
  {
   "cell_type": "code",
   "execution_count": 21,
   "metadata": {},
   "outputs": [
    {
     "name": "stdout",
     "output_type": "stream",
     "text": [
      "[]\n",
      "[0, 1, 2, 3, 4, 5, 6, 7, 8, 9]\n",
      "pop : 9\n",
      "pop : 8\n",
      "pop : 7\n",
      "pop : 6\n",
      "pop : 5\n",
      "pop : 4\n",
      "pop : 3\n",
      "pop : 2\n",
      "pop : 1\n",
      "pop : 0\n"
     ]
    },
    {
     "ename": "IndexError",
     "evalue": "pop from empty list",
     "output_type": "error",
     "traceback": [
      "\u001b[1;31m---------------------------------------------------------------------------\u001b[0m",
      "\u001b[1;31mIndexError\u001b[0m                                Traceback (most recent call last)",
      "\u001b[1;32m<ipython-input-21-d0e74c344832>\u001b[0m in \u001b[0;36m<module>\u001b[1;34m\u001b[0m\n\u001b[0;32m     36\u001b[0m     \u001b[1;32mfor\u001b[0m \u001b[0mi\u001b[0m \u001b[1;32min\u001b[0m \u001b[0mrange\u001b[0m\u001b[1;33m(\u001b[0m\u001b[1;36m10\u001b[0m\u001b[1;33m)\u001b[0m\u001b[1;33m:\u001b[0m\u001b[1;33m\u001b[0m\u001b[1;33m\u001b[0m\u001b[0m\n\u001b[0;32m     37\u001b[0m         \u001b[0mprint\u001b[0m\u001b[1;33m(\u001b[0m\u001b[1;34m\"pop : {0}\"\u001b[0m\u001b[1;33m.\u001b[0m\u001b[0mformat\u001b[0m\u001b[1;33m(\u001b[0m\u001b[0mstack\u001b[0m\u001b[1;33m.\u001b[0m\u001b[0mpop\u001b[0m\u001b[1;33m(\u001b[0m\u001b[1;33m)\u001b[0m\u001b[1;33m)\u001b[0m\u001b[1;33m)\u001b[0m\u001b[1;33m\u001b[0m\u001b[1;33m\u001b[0m\u001b[0m\n\u001b[1;32m---> 38\u001b[1;33m     \u001b[0mprint\u001b[0m\u001b[1;33m(\u001b[0m\u001b[1;34m\"pop : {0}\"\u001b[0m\u001b[1;33m.\u001b[0m\u001b[0mformat\u001b[0m\u001b[1;33m(\u001b[0m\u001b[0mstack\u001b[0m\u001b[1;33m.\u001b[0m\u001b[0mpop\u001b[0m\u001b[1;33m(\u001b[0m\u001b[1;33m)\u001b[0m\u001b[1;33m)\u001b[0m\u001b[1;33m)\u001b[0m \u001b[1;31m#스텍이구나!\u001b[0m\u001b[1;33m\u001b[0m\u001b[1;33m\u001b[0m\u001b[0m\n\u001b[0m\u001b[0;32m     39\u001b[0m \u001b[1;33m\u001b[0m\u001b[0m\n",
      "\u001b[1;32m<ipython-input-21-d0e74c344832>\u001b[0m in \u001b[0;36mpop\u001b[1;34m(self)\u001b[0m\n\u001b[0;32m     10\u001b[0m \u001b[1;33m\u001b[0m\u001b[0m\n\u001b[0;32m     11\u001b[0m     \u001b[1;32mdef\u001b[0m \u001b[0mpop\u001b[0m\u001b[1;33m(\u001b[0m\u001b[0mself\u001b[0m\u001b[1;33m)\u001b[0m\u001b[1;33m:\u001b[0m \u001b[1;31m#인자를 뽑지 않아도 리턴만 하면 됨\u001b[0m\u001b[1;33m\u001b[0m\u001b[1;33m\u001b[0m\u001b[0m\n\u001b[1;32m---> 12\u001b[1;33m         \u001b[0mvalue\u001b[0m \u001b[1;33m=\u001b[0m \u001b[0mself\u001b[0m\u001b[1;33m.\u001b[0m\u001b[0mitems\u001b[0m\u001b[1;33m.\u001b[0m\u001b[0mpop\u001b[0m\u001b[1;33m(\u001b[0m\u001b[1;33m)\u001b[0m\u001b[1;33m\u001b[0m\u001b[1;33m\u001b[0m\u001b[0m\n\u001b[0m\u001b[0;32m     13\u001b[0m         \u001b[1;32mif\u001b[0m \u001b[0mvalue\u001b[0m \u001b[1;32mis\u001b[0m \u001b[1;32mnot\u001b[0m \u001b[1;32mNone\u001b[0m\u001b[1;33m:\u001b[0m \u001b[1;31m#데이터가 있다면\u001b[0m\u001b[1;33m\u001b[0m\u001b[1;33m\u001b[0m\u001b[0m\n\u001b[0;32m     14\u001b[0m             \u001b[1;32mreturn\u001b[0m \u001b[0mvalue\u001b[0m\u001b[1;33m\u001b[0m\u001b[1;33m\u001b[0m\u001b[0m\n",
      "\u001b[1;31mIndexError\u001b[0m: pop from empty list"
     ]
    }
   ],
   "source": [
    "class Stack(object):\n",
    "    def __init__(self):\n",
    "        self.items = []\n",
    "        \n",
    "    def isEmpty(self):\n",
    "        return not bool(self.items) #리스트가 비어있을 때만 True리턴\n",
    "    \n",
    "    def push(self, value):\n",
    "        self.items.append(value)\n",
    "        \n",
    "    def pop(self): #인자를 뽑지 않아도 리턴만 하면 됨\n",
    "        value = self.items.pop()\n",
    "        if value is not None: #데이터가 있다면\n",
    "            return value\n",
    "        else: #비어있는 경우\n",
    "            print(\"Stack is empty\")\n",
    "            \n",
    "    def size(self):\n",
    "        return len(self.items) #items의 원소의 갯수 센다\n",
    "    \n",
    "    def peek(self):\n",
    "        if self.items:\n",
    "            return self.items[-1]\n",
    "        else:\n",
    "            print(\"Stack is empty.\")\n",
    "            \n",
    "    def __repr__(self):\n",
    "        return repr(self.items)\n",
    "    \n",
    "if __name__ == \"__main__\":\n",
    "    stack = Stack()\n",
    "    print(stack) #데이터 넣기 전\n",
    "    for i in range(10):\n",
    "        stack.push(i)\n",
    "    print(stack) #넣은 후 , 가장 밑에 0이 있게 됨\n",
    "    for i in range(10):\n",
    "        print(\"pop : {0}\".format(stack.pop()))\n",
    "    print(\"pop : {0}\".format(stack.pop())) # 데이터 익셉션이 나오게 된다. \n",
    "    "
   ]
  },
  {
   "cell_type": "code",
   "execution_count": 114,
   "metadata": {
    "scrolled": true
   },
   "outputs": [
    {
     "ename": "AttributeError",
     "evalue": "'Stack' object has no attribute 'items'",
     "output_type": "error",
     "traceback": [
      "\u001b[1;31m---------------------------------------------------------------------------\u001b[0m",
      "\u001b[1;31mAttributeError\u001b[0m                            Traceback (most recent call last)",
      "\u001b[1;32m<ipython-input-114-6d0066b73e76>\u001b[0m in \u001b[0;36m<module>\u001b[1;34m\u001b[0m\n\u001b[0;32m     48\u001b[0m \u001b[1;32mif\u001b[0m \u001b[0m__name__\u001b[0m \u001b[1;33m==\u001b[0m \u001b[1;34m\"__main__\"\u001b[0m\u001b[1;33m:\u001b[0m\u001b[1;33m\u001b[0m\u001b[1;33m\u001b[0m\u001b[0m\n\u001b[0;32m     49\u001b[0m     \u001b[0mstack\u001b[0m \u001b[1;33m=\u001b[0m \u001b[0mStack\u001b[0m\u001b[1;33m(\u001b[0m\u001b[1;33m)\u001b[0m\u001b[1;33m\u001b[0m\u001b[1;33m\u001b[0m\u001b[0m\n\u001b[1;32m---> 50\u001b[1;33m     \u001b[0mprint\u001b[0m\u001b[1;33m(\u001b[0m\u001b[0mstack\u001b[0m\u001b[1;33m)\u001b[0m \u001b[1;31m#데이터 넣기 전\u001b[0m\u001b[1;33m\u001b[0m\u001b[1;33m\u001b[0m\u001b[0m\n\u001b[0m\u001b[0;32m     51\u001b[0m     \u001b[1;32mfor\u001b[0m \u001b[0mi\u001b[0m \u001b[1;32min\u001b[0m \u001b[0mrange\u001b[0m\u001b[1;33m(\u001b[0m\u001b[1;36m10\u001b[0m\u001b[1;33m)\u001b[0m\u001b[1;33m:\u001b[0m\u001b[1;33m\u001b[0m\u001b[1;33m\u001b[0m\u001b[0m\n\u001b[0;32m     52\u001b[0m         \u001b[0mstack\u001b[0m\u001b[1;33m.\u001b[0m\u001b[0mpush\u001b[0m\u001b[1;33m(\u001b[0m\u001b[0mi\u001b[0m\u001b[1;33m)\u001b[0m\u001b[1;33m\u001b[0m\u001b[1;33m\u001b[0m\u001b[0m\n",
      "\u001b[1;32m<ipython-input-114-6d0066b73e76>\u001b[0m in \u001b[0;36m__repr__\u001b[1;34m(self)\u001b[0m\n\u001b[0;32m     37\u001b[0m \u001b[1;33m\u001b[0m\u001b[0m\n\u001b[0;32m     38\u001b[0m     \u001b[1;32mdef\u001b[0m \u001b[0m__repr__\u001b[0m\u001b[1;33m(\u001b[0m\u001b[0mself\u001b[0m\u001b[1;33m)\u001b[0m\u001b[1;33m:\u001b[0m\u001b[1;33m\u001b[0m\u001b[1;33m\u001b[0m\u001b[0m\n\u001b[1;32m---> 39\u001b[1;33m         \u001b[1;32mreturn\u001b[0m \u001b[0mrepr\u001b[0m\u001b[1;33m(\u001b[0m\u001b[0mself\u001b[0m\u001b[1;33m.\u001b[0m\u001b[0mitems\u001b[0m\u001b[1;33m)\u001b[0m\u001b[1;33m\u001b[0m\u001b[1;33m\u001b[0m\u001b[0m\n\u001b[0m\u001b[0;32m     40\u001b[0m \u001b[1;33m\u001b[0m\u001b[0m\n\u001b[0;32m     41\u001b[0m     \u001b[1;32mdef\u001b[0m \u001b[0m_printList\u001b[0m\u001b[1;33m(\u001b[0m\u001b[0mself\u001b[0m\u001b[1;33m)\u001b[0m\u001b[1;33m:\u001b[0m\u001b[1;33m\u001b[0m\u001b[1;33m\u001b[0m\u001b[0m\n",
      "\u001b[1;31mAttributeError\u001b[0m: 'Stack' object has no attribute 'items'"
     ]
    }
   ],
   "source": [
    "class Node(object): # 노드가 되는 것\n",
    "    def __init__(self, value=None, pointer=None ): # 원래 파이썬에는 pointer란게 없다\n",
    "        self.value = value\n",
    "        self.pointer = pointer \n",
    "\n",
    "class Stack(object):\n",
    "    def __init__(self):\n",
    "        self.head = None\n",
    "        self.count = 0 # 원소의 수 관리\n",
    "        \n",
    "    def isEmpty(self):\n",
    "        return not bool(self.head) #리스트가 비어있을 때만 True리턴\n",
    "    \n",
    "    def push(self, item): #어느 방향으로든 노드를 추가해준다\n",
    "        self.head = Node(item, self.head) # insert code이다.\n",
    "        self.count += 1\n",
    "        \n",
    "    def pop(self): #인자를 뽑지 않아도 리턴만 하면 됨\n",
    "        if(self.count > 0 and self.head): # count값이 0보다 크고 head가 비어있지 않다면\n",
    "            node = self.head # 맨 앞에서 추출하는 코드\n",
    "#             print(node)\n",
    "            self.head = node.pointer # 중간 노드를 없앤다는 것\n",
    "#             print(self.head)\n",
    "            self.count -= 1 \n",
    "            return node.value #노드가 있다면 노드 안에 있는 것을 리턴\n",
    "        else : # 노드가 없다면\n",
    "            print(\"Stack is empty\")\n",
    "            \n",
    "    def size(self):\n",
    "        return self.count\n",
    "    \n",
    "    def peek(self):\n",
    "        if(self.count > 0 and self.head): #데이터가 있다면 데이터를 지우지 않고 그 값을 리턴\n",
    "            return self.node.value # 헤드의 value 리턴\n",
    "        else:\n",
    "            print(\"Stack is empty.\")\n",
    "    \n",
    "    def _printList(self):\n",
    "        node = self.head\n",
    "        while node:\n",
    "            print(node.value, end=\" \")\n",
    "            node = node.pointer\n",
    "        print()\n",
    "    \n",
    "if __name__ == \"__main__\":\n",
    "    stack = Stack()\n",
    "    print(stack) #데이터 넣기 전\n",
    "    for i in range(10):\n",
    "        stack.push(i)\n",
    "    print(stack) #넣은 후 , 가장 밑에 0이 있게 됨\n",
    "    for i in range(10):\n",
    "        print(\"pop : {0}\".format(stack.pop()))\n",
    "    print(\"pop : {0}\".format(stack.pop())) # 데이터 익셉션이 나오게 된다. "
   ]
  },
  {
   "cell_type": "markdown",
   "metadata": {},
   "source": [
    "### 큐(queue) "
   ]
  },
  {
   "cell_type": "code",
   "execution_count": 115,
   "metadata": {},
   "outputs": [
    {
     "name": "stdout",
     "output_type": "stream",
     "text": [
      "[]\n",
      "[9, 8, 7, 6, 5, 4, 3, 2, 1, 0]\n",
      "dequeue : 0\n",
      "dequeue : 1\n",
      "dequeue : 2\n",
      "dequeue : 3\n",
      "dequeue : 4\n",
      "dequeue : 5\n",
      "dequeue : 6\n",
      "dequeue : 7\n",
      "dequeue : 8\n",
      "dequeue : 9\n"
     ]
    }
   ],
   "source": [
    "#Stack 리스트 구현 코드를 가져와서 약간 변형\n",
    "\n",
    "class Queue(object):\n",
    "    def __init__(self):\n",
    "        self.items = []\n",
    "        \n",
    "    def isEmpty(self):\n",
    "        return not bool(self.items) #리스트가 비어있을 때만 True리턴\n",
    "    \n",
    "    def enqueue(self, item): #0인덱스 앞에 넣는 것은 맨 앞에 넣는다는 것.\n",
    "        self.items.insert(0, item) #insert는 앞에서 넣는것. append는 맨뒤에 넣는거고.\n",
    "        \n",
    "    def dequeue(self): #인자를 뽑지 않아도 리턴만 하면 됨\n",
    "        value = self.items.pop()\n",
    "        if value is not None: #데이터가 있다면\n",
    "            return value\n",
    "        else: #비어있는 경우\n",
    "            print(\"Queue is empty\")\n",
    "            \n",
    "    def size(self):\n",
    "        return len(self.items) #items의 원소의 갯수 센다\n",
    "    \n",
    "    def peek(self):\n",
    "        if self.items:\n",
    "            return self.items[-1]\n",
    "        else:\n",
    "            print(\"Queue is empty.\")\n",
    "            \n",
    "    def __repr__(self):\n",
    "        return repr(self.items)\n",
    "    \n",
    "if __name__ == \"__main__\":\n",
    "    queue = Queue()\n",
    "    print(queue) #데이터 넣기 전\n",
    "    for i in range(10):\n",
    "        queue.enqueue(i)\n",
    "    print(queue) #넣은 후 , 가장 밑에 0이 있게 됨\n",
    "    for i in range(10):\n",
    "        print(\"dequeue : {0}\".format(queue.dequeue()))\n",
    "\n",
    "        #집어넣은 순서대로 뽑으면 이렇게 나온다. "
   ]
  },
  {
   "cell_type": "code",
   "execution_count": 31,
   "metadata": {
    "scrolled": true
   },
   "outputs": [
    {
     "name": "stdout",
     "output_type": "stream",
     "text": [
      "[]\n",
      "[9, 8, 7, 6, 5, 4, 3, 2, 1, 0]\n",
      "dequeue : 0\n",
      "dequeue : 1\n",
      "dequeue : 2\n",
      "dequeue : 3\n",
      "dequeue : 4\n",
      "dequeue : 5\n",
      "dequeue : 6\n",
      "dequeue : 7\n",
      "dequeue : 8\n",
      "dequeue : 9\n"
     ]
    },
    {
     "ename": "IndexError",
     "evalue": "pop from empty list",
     "output_type": "error",
     "traceback": [
      "\u001b[1;31m---------------------------------------------------------------------------\u001b[0m",
      "\u001b[1;31mIndexError\u001b[0m                                Traceback (most recent call last)",
      "\u001b[1;32m<ipython-input-31-2c3c943a06cb>\u001b[0m in \u001b[0;36m<module>\u001b[1;34m\u001b[0m\n\u001b[0;32m     60\u001b[0m     \u001b[1;32mfor\u001b[0m \u001b[0mi\u001b[0m \u001b[1;32min\u001b[0m \u001b[0mrange\u001b[0m\u001b[1;33m(\u001b[0m\u001b[1;36m10\u001b[0m\u001b[1;33m)\u001b[0m\u001b[1;33m:\u001b[0m\u001b[1;33m\u001b[0m\u001b[1;33m\u001b[0m\u001b[0m\n\u001b[0;32m     61\u001b[0m         \u001b[0mprint\u001b[0m\u001b[1;33m(\u001b[0m\u001b[1;34m\"dequeue : {0}\"\u001b[0m\u001b[1;33m.\u001b[0m\u001b[0mformat\u001b[0m\u001b[1;33m(\u001b[0m\u001b[0mqueue\u001b[0m\u001b[1;33m.\u001b[0m\u001b[0mdequeue\u001b[0m\u001b[1;33m(\u001b[0m\u001b[1;33m)\u001b[0m\u001b[1;33m)\u001b[0m\u001b[1;33m)\u001b[0m\u001b[1;33m\u001b[0m\u001b[1;33m\u001b[0m\u001b[0m\n\u001b[1;32m---> 62\u001b[1;33m     \u001b[0mprint\u001b[0m\u001b[1;33m(\u001b[0m\u001b[1;34m\"dequeue : {0}\"\u001b[0m\u001b[1;33m.\u001b[0m\u001b[0mformat\u001b[0m\u001b[1;33m(\u001b[0m\u001b[0mqueue\u001b[0m\u001b[1;33m.\u001b[0m\u001b[0mdequeue\u001b[0m\u001b[1;33m(\u001b[0m\u001b[1;33m)\u001b[0m\u001b[1;33m)\u001b[0m\u001b[1;33m)\u001b[0m \u001b[1;31m# 데이터 익셉션이 나오게 된다.\u001b[0m\u001b[1;33m\u001b[0m\u001b[1;33m\u001b[0m\u001b[0m\n\u001b[0m",
      "\u001b[1;32m<ipython-input-27-116b6ab1b18c>\u001b[0m in \u001b[0;36mdequeue\u001b[1;34m(self)\u001b[0m\n\u001b[0;32m     10\u001b[0m \u001b[1;33m\u001b[0m\u001b[0m\n\u001b[0;32m     11\u001b[0m     \u001b[1;32mdef\u001b[0m \u001b[0mdequeue\u001b[0m\u001b[1;33m(\u001b[0m\u001b[0mself\u001b[0m\u001b[1;33m)\u001b[0m\u001b[1;33m:\u001b[0m \u001b[1;31m#인자를 뽑지 않아도 리턴만 하면 됨\u001b[0m\u001b[1;33m\u001b[0m\u001b[1;33m\u001b[0m\u001b[0m\n\u001b[1;32m---> 12\u001b[1;33m         \u001b[0mvalue\u001b[0m \u001b[1;33m=\u001b[0m \u001b[0mself\u001b[0m\u001b[1;33m.\u001b[0m\u001b[0mitems\u001b[0m\u001b[1;33m.\u001b[0m\u001b[0mpop\u001b[0m\u001b[1;33m(\u001b[0m\u001b[1;33m)\u001b[0m\u001b[1;33m\u001b[0m\u001b[1;33m\u001b[0m\u001b[0m\n\u001b[0m\u001b[0;32m     13\u001b[0m         \u001b[1;32mif\u001b[0m \u001b[0mvalue\u001b[0m \u001b[1;32mis\u001b[0m \u001b[1;32mnot\u001b[0m \u001b[1;32mNone\u001b[0m\u001b[1;33m:\u001b[0m \u001b[1;31m#데이터가 있다면\u001b[0m\u001b[1;33m\u001b[0m\u001b[1;33m\u001b[0m\u001b[0m\n\u001b[0;32m     14\u001b[0m             \u001b[1;32mreturn\u001b[0m \u001b[0mvalue\u001b[0m\u001b[1;33m\u001b[0m\u001b[1;33m\u001b[0m\u001b[0m\n",
      "\u001b[1;31mIndexError\u001b[0m: pop from empty list"
     ]
    }
   ],
   "source": [
    "#Stack 의 노드 타입에서 좀 바뀌는 식\n",
    "\n",
    "class Node(object): # 노드가 되는 것\n",
    "    def __init__(self, value=None, pointer=None ): # 원래 파이썬에는 pointer란게 없다\n",
    "        self.value = value\n",
    "        self.pointer = pointer \n",
    "\n",
    "class LinkedQueue(object):\n",
    "    def __init__(self): #맨앞, 맨뒤 가리키는 노드 만든다\n",
    "        self.head = None\n",
    "        self.tail = None\n",
    "        self.count = 0 # 원소의 수 관리\n",
    "        \n",
    "    def isEmpty(self):\n",
    "        return not bool(self.head) #리스트가 비어있을 때만 True리턴\n",
    "    \n",
    "    def dequeue(self): \n",
    "        if(self.head ): #벨류를 뽑아서 리턴\n",
    "            value = self.head.value\n",
    "            self.head = self.head.pointer # 맨 앞에서 지운다는 것\n",
    "            self.count -= 1 \n",
    "            return node.value \n",
    "        else : # 노드가 없다면\n",
    "            print(\"Queue is empty\")\n",
    "    \n",
    "    def enqueue(self, value): \n",
    "        node = Node(value) # 바로 헤드에 넣지 않았다\n",
    "        # 테일 쪽에 넣는다!\n",
    "        if not self.head: #헤드가 none이라면\n",
    "            self.head = node\n",
    "            self.tail = node #그때는 노드가 하나뿐이라서 tail도 노드 가리키면 됨\n",
    "        else:\n",
    "            if self.tail: #테일이 none이 아니라면\n",
    "                self.tail.pointer = node\n",
    "            self.tail = node # 이게 맨뒤에 넣는 코드다\n",
    "        self.count += 1 # 노드가 들어왓으니까 +1 하는 것이다\n",
    "            \n",
    "    def size(self):\n",
    "        return self.count\n",
    "    \n",
    "    def peek(self):\n",
    "        if(self.count > 0 ): \n",
    "            return self.head.value # 헤드의 value 리턴\n",
    "        else:\n",
    "            print(\"Queue is empty.\")\n",
    "            \n",
    "    def _printList(self):\n",
    "        node = self.head\n",
    "        while node:\n",
    "            print(node.value, end=\" \")\n",
    "            node = node.pointer\n",
    "        print()\n",
    "    \n",
    "if __name__ == \"__main__\":\n",
    "    queue = Queue()\n",
    "    print(queue) #데이터 넣기 전\n",
    "    for i in range(10):\n",
    "        queue.enqueue(i)\n",
    "    print(queue) #넣은 후 , 가장 밑에 0이 있게 됨\n",
    "    for i in range(10):\n",
    "        print(\"dequeue : {0}\".format(queue.dequeue()))\n",
    "    print(\"dequeue : {0}\".format(queue.dequeue())) # 데이터 익셉션이 나오게 된다. "
   ]
  },
  {
   "cell_type": "markdown",
   "metadata": {},
   "source": [
    "###  heapq 모듈"
   ]
  },
  {
   "cell_type": "code",
   "execution_count": 32,
   "metadata": {},
   "outputs": [
    {
     "data": {
      "text/plain": [
       "[1, 4, 8, 6]"
      ]
     },
     "execution_count": 32,
     "metadata": {},
     "output_type": "execute_result"
    }
   ],
   "source": [
    "import heapq\n",
    "list1 = [4,6,8,1]\n",
    "heapq.heapify(list1)\n",
    "list1"
   ]
  },
  {
   "cell_type": "code",
   "execution_count": 37,
   "metadata": {},
   "outputs": [
    {
     "data": {
      "text/plain": [
       "[(1, 'food'), (2, 'have fun'), (3, 'work'), (4, 'study')]"
      ]
     },
     "execution_count": 37,
     "metadata": {},
     "output_type": "execute_result"
    }
   ],
   "source": [
    "h = []\n",
    "heapq.heappush( h, (1, 'food'))\n",
    "heapq.heappush( h, (2, 'have fun'))\n",
    "heapq.heappush( h, (3, 'work'))\n",
    "heapq.heappush( h, (4, 'study'))\n",
    "type(h)\n",
    "h\n"
   ]
  },
  {
   "cell_type": "code",
   "execution_count": 38,
   "metadata": {},
   "outputs": [
    {
     "data": {
      "text/plain": [
       "[1, 4, 8, 6]"
      ]
     },
     "execution_count": 38,
     "metadata": {},
     "output_type": "execute_result"
    }
   ],
   "source": [
    "list1"
   ]
  },
  {
   "cell_type": "code",
   "execution_count": 39,
   "metadata": {},
   "outputs": [
    {
     "data": {
      "text/plain": [
       "1"
      ]
     },
     "execution_count": 39,
     "metadata": {},
     "output_type": "execute_result"
    }
   ],
   "source": [
    "heapq.heappop(list1) #가장 작은 값이 뽑혀 나오는 느낌"
   ]
  },
  {
   "cell_type": "code",
   "execution_count": 40,
   "metadata": {},
   "outputs": [
    {
     "data": {
      "text/plain": [
       "4"
      ]
     },
     "execution_count": 40,
     "metadata": {},
     "output_type": "execute_result"
    }
   ],
   "source": [
    "heapq.heappop(list1)"
   ]
  },
  {
   "cell_type": "code",
   "execution_count": 41,
   "metadata": {},
   "outputs": [
    {
     "data": {
      "text/plain": [
       "6"
      ]
     },
     "execution_count": 41,
     "metadata": {},
     "output_type": "execute_result"
    }
   ],
   "source": [
    "heapq.heappop(list1)"
   ]
  },
  {
   "cell_type": "code",
   "execution_count": 42,
   "metadata": {},
   "outputs": [
    {
     "data": {
      "text/plain": [
       "8"
      ]
     },
     "execution_count": 42,
     "metadata": {},
     "output_type": "execute_result"
    }
   ],
   "source": [
    "heapq.heappop(list1) # 들어간 순서는 1 4 8 6 인데 뽑혀나오는 순서는 1 4 6 8"
   ]
  },
  {
   "cell_type": "markdown",
   "metadata": {},
   "source": [
    "### heap 구현\n",
    "\n",
    "False and 어떤값  -> 앞에가 False라서 무조건 False\n",
    "True or 어떤값 -> 앞에가 True라서 무조건 True\n"
   ]
  },
  {
   "cell_type": "code",
   "execution_count": 72,
   "metadata": {},
   "outputs": [
    {
     "name": "stdout",
     "output_type": "stream",
     "text": [
      "[3, 2, 8, 1, 7, 5, 2]\n",
      "[3, 7, 8, 1, 2, 5, 2]\n",
      "[8, 7, 3, 1, 2, 5, 2]\n",
      "[8, 7, 5, 1, 2, 3, 2]\n",
      "[7, 2, 5, 1, 2, 3]\n",
      "8\n",
      "[5, 2, 3, 1, 2]\n",
      "7\n",
      "[3, 2, 2, 1]\n",
      "5\n",
      "[9, 3, 2, 1, 2]\n"
     ]
    }
   ],
   "source": [
    "class Heapify(object):\n",
    "    def __init__(self, data=None):\n",
    "        self.data = data or []\n",
    "        for i in range(len(data)//2, -1, -1): # range(start , end , step)\n",
    "            #print(i)\n",
    "            self.__max_heapify__(i)\n",
    "            \n",
    "    def parent(self, i):\n",
    "        if i & 1: # 가장 끝에 있는 i를 비교해서 홀수인지 아닌지를 비교한 것이다.\n",
    "            return i >> 1  #i 가 인덱스이므로 오른쪽으로 1비트 미는 것은 2로 나누는 것이다.\n",
    "        else: # 짝수인 경우 부모를 찾을 때 I를 오른쪽으로 1칸 밀어 2로 나누는 식\n",
    "            return (i >> 1) -1\n",
    "        \n",
    "            \n",
    "    def left_child(self, i):\n",
    "        return(i<<1) + 1 # 정수를 1비트만큼 왼쪽으로 밀라는 것은 2을 곱하라는 것\n",
    "    # I<<1은 곱하기 2하는 거라고 보면 된다.\n",
    "    \n",
    "    def right_child(self, i):\n",
    "        return (i<<1) + 2\n",
    "    \n",
    "    def __max_heapify__(self, i):  # 업힙과 다운 힙\n",
    "        largest = i \n",
    "        left = self.left_child(i) #여기가 3이 나온다\n",
    "        right = self.right_child(i)\n",
    "        n = len(self.data) #전체 원소 수를 말한다. \n",
    "        \n",
    "        largest = (left<n and self.data[left] > self.data[i]) and left or i #범위가 넘어가는 것은 무조건 false리턴해서 계산 안함\n",
    "        largest = (right<n and self.data[right] > self.data[largest]) and right or largest\n",
    "        \n",
    "        if i is not largest:\n",
    "            self.data[i] , self.data[largest] = self.data[largest], self.data[i] # tuple unpacking\n",
    "            print(self.data)\n",
    "            self.__max_heapify__(largest) #재귀\n",
    "            \n",
    "    def extract_max(self):\n",
    "        n = len(self.data)\n",
    "        max_element = self.data[0]\n",
    "        self.data[0] = self.data[n-1] # 가장 끝에있는 원소를 내림\n",
    "        self.data = self.data[:n-1]\n",
    "        self.__max_heapify__(0)\n",
    "        \n",
    "        return max_element #이러고나면 8이 나오고 그다음 큰 값이 맨 위로 올라간다.\n",
    "        \n",
    "    def insert(self, item):\n",
    "        i = len(self.data)\n",
    "        self.data.append(item)\n",
    "        while ( i!=0) and item > self.data[self.parent(i)]:\n",
    "#             print(self.data)\n",
    "            self.data[i] = self.data[self.parent(i)]\n",
    "            i = self.parent(i)\n",
    "        self.data[i]=item\n",
    "        \n",
    "def test_heapify():\n",
    "    l1 = [3,2,5,1,7,8,2]\n",
    "    h = Heapify(l1) # h 가 생성됨\n",
    "    print(h.extract_max()) #여기서 무조건 8이 나옴 \n",
    "    print(h.extract_max())\n",
    "    print(h.extract_max())\n",
    "    h.insert(9)\n",
    "    print(h.data) # insert 9가 들어가있다.\n",
    "    \n",
    "\n",
    "if __name__ == \"__main__\":\n",
    "    test_heapify()\n",
    "    "
   ]
  },
  {
   "cell_type": "code",
   "execution_count": 73,
   "metadata": {},
   "outputs": [
    {
     "name": "stdout",
     "output_type": "stream",
     "text": [
      "[3, 2, 8, 1, 7, 5, 2]\n",
      "[3, 7, 8, 1, 2, 5, 2]\n",
      "[8, 7, 3, 1, 2, 5, 2]\n",
      "[8, 7, 5, 1, 2, 3, 2]\n",
      "[7, 2, 5, 1, 2, 3]\n",
      "8\n",
      "[5, 2, 3, 1, 2]\n",
      "7\n",
      "[3, 2, 2, 1]\n",
      "5\n",
      "[9, 3, 2, 1, 2]\n"
     ]
    }
   ],
   "source": [
    "class Heapify(object):\n",
    "    def __init__(self, data=None):\n",
    "        self.data = data or []\n",
    "        for i in range(len(data)//2, -1, -1): # range(start , end , step)\n",
    "            #print(i)\n",
    "            self.__max_heapify__(i)\n",
    "            \n",
    "    def parent(self, i):\n",
    "        if i & 1: # 가장 끝에 있는 i를 비교해서 홀수인지 아닌지를 비교한 것이다.\n",
    "            return i >> 1  #i 가 인덱스이므로 오른쪽으로 1비트 미는 것은 2로 나누는 것이다.\n",
    "        else: # 짝수인 경우 부모를 찾을 때 I를 오른쪽으로 1칸 밀어 2로 나누는 식\n",
    "            return (i >> 1) -1\n",
    "        \n",
    "            \n",
    "    def left_child(self, i):\n",
    "        return(i<<1) + 1 # 정수를 1비트만큼 왼쪽으로 밀라는 것은 2을 곱하라는 것\n",
    "    # I<<1은 곱하기 2하는 거라고 보면 된다.\n",
    "    \n",
    "    def right_child(self, i):\n",
    "        return (i<<1) + 2\n",
    "    \n",
    "    def __max_heapify__(self, i):  #  다운 힙\n",
    "        largest = i \n",
    "        left = self.left_child(i) #여기가 3이 나온다\n",
    "        right = self.right_child(i)\n",
    "        n = len(self.data) #전체 원소 수를 말한다. \n",
    "        \n",
    "        \n",
    "        largest = (left<n and self.data[left] > self.data[i]) and left or i #범위가 넘어가는 것은 무조건 false리턴해서 계산 안함\n",
    "        # 이게 무엇을 하는 것인가?\n",
    "        # \n",
    "        largest = (right<n and self.data[right] > self.data[largest]) and right or largest # 부모랑 왼쪽자식이랑 라지스트랑 이렇게 세개를 비교하게 됨\n",
    "        #결국 나와 왼쪽과 오른쪽을 비교해 라지스트에 값을 넣어라 이것\n",
    "        \n",
    "        #가장큰 값이 i라면 이 아래의 if를 돌지 않는다. 바꾼것에 대해 다시 재귀호출로 가장 큰값의 index기준으로 돌아간다.\n",
    "        if i is not largest:   #오로지 조건에 맞춰서 크고 작은것을 스왑하는 것, 즉 리스트의 순번만을 바꿔주는것\n",
    "            self.data[i] , self.data[largest] = self.data[largest], self.data[i] # tuple unpacking\n",
    "            print(self.data)\n",
    "            self.__max_heapify__(largest) #재귀\n",
    "            \n",
    "    def extract_max(self): # 다운 힙 동작\n",
    "        n = len(self.data)\n",
    "        max_element = self.data[0]\n",
    "        self.data[0] = self.data[n-1] # 가장 끝에있는 원소를 내림\n",
    "        self.data = self.data[:n-1]\n",
    "        self.__max_heapify__(0)\n",
    "        \n",
    "        return max_element #이러고나면 8이 나오고 그다음 큰 값이 맨 위로 올라간다.\n",
    "        \n",
    "    def insert(self, item):#업힙 동작\n",
    "        i = len(self.data)\n",
    "        self.data.append(item)\n",
    "        while ( i!=0) and item > self.data[self.parent(i)]:\n",
    "#             print(self.data)\n",
    "            self.data[i] = self.data[self.parent(i)]\n",
    "            i = self.parent(i)\n",
    "        self.data[i]=item\n",
    "        \n",
    "def test_heapify():\n",
    "    l1 = [3,2,5,1,7,8,2]\n",
    "    h = Heapify(l1) # h 가 생성됨\n",
    "    print(h.extract_max()) #여기서 무조건 8이 나옴 \n",
    "    print(h.extract_max())\n",
    "    print(h.extract_max())\n",
    "    h.insert(9)\n",
    "    print(h.data) # insert 9가 들어가있다.\n",
    "    \n",
    "\n",
    "if __name__ == \"__main__\":\n",
    "    test_heapify()\n",
    "    "
   ]
  },
  {
   "cell_type": "code",
   "execution_count": 75,
   "metadata": {},
   "outputs": [
    {
     "name": "stdout",
     "output_type": "stream",
     "text": [
      "[1, 2, 7, 4, 5, 6, 3]\n",
      "[1, 5, 7, 4, 2, 6, 3]\n",
      "[7, 5, 1, 4, 2, 6, 3]\n",
      "[7, 5, 6, 4, 2, 1, 3]\n",
      "[6, 5, 3, 4, 2, 1]\n",
      "7\n",
      "[5, 1, 3, 4, 2]\n",
      "[5, 4, 3, 1, 2]\n",
      "6\n",
      "[4, 2, 3, 1]\n",
      "5\n",
      "[9, 4, 3, 1, 2]\n"
     ]
    }
   ],
   "source": [
    "class Heapify(object):\n",
    "    def __init__(self, data=None):\n",
    "        self.data = data or []\n",
    "        for i in range(len(data)//2, -1, -1): # range(start , end , step)\n",
    "            #print(i)\n",
    "            self.__max_heapify__(i)\n",
    "            \n",
    "    def parent(self, i):\n",
    "        if i & 1: # 가장 끝에 있는 i를 비교해서 홀수인지 아닌지를 비교한 것이다.\n",
    "            return i >> 1  #i 가 인덱스이므로 오른쪽으로 1비트 미는 것은 2로 나누는 것이다.\n",
    "        else: # 짝수인 경우 부모를 찾을 때 I를 오른쪽으로 1칸 밀어 2로 나누는 식\n",
    "            return (i >> 1) -1\n",
    "        \n",
    "            \n",
    "    def left_child(self, i):\n",
    "        return(i<<1) + 1 # 정수를 1비트만큼 왼쪽으로 밀라는 것은 2을 곱하라는 것\n",
    "    # I<<1은 곱하기 2하는 거라고 보면 된다.\n",
    "    \n",
    "    def right_child(self, i):\n",
    "        return (i<<1) + 2\n",
    "    \n",
    "    def __max_heapify__(self, i):  \n",
    "        largest = i \n",
    "        left = self.left_child(i) #여기가 3이 나온다\n",
    "        right = self.right_child(i)\n",
    "        n = len(self.data) #전체 원소 수를 말한다. \n",
    "        \n",
    "        \n",
    "        largest = (left<n and self.data[left] > self.data[i]) and left or i #범위가 넘어가는 것은 무조건 false리턴해서 계산 안함\n",
    "        # 이게 무엇을 하는 것인가?\n",
    "        # \n",
    "        largest = (right<n and self.data[right] > self.data[largest]) and right or largest # 부모랑 왼쪽자식이랑 라지스트랑 이렇게 세개를 비교하게 됨\n",
    "        #결국 나와 왼쪽과 오른쪽을 비교해 라지스트에 값을 넣어라 이것\n",
    "        \n",
    "        #가장큰 값이 i라면 이 아래의 if를 돌지 않는다. 바꾼것에 대해 다시 재귀호출로 가장 큰값의 index기준으로 돌아간다.\n",
    "        if i is not largest:   #오로지 조건에 맞춰서 크고 작은것을 스왑하는 것, 즉 리스트의 순번만을 바꿔주는것\n",
    "            self.data[i] , self.data[largest] = self.data[largest], self.data[i] # tuple unpacking\n",
    "            print(self.data)\n",
    "            self.__max_heapify__(largest) #재귀\n",
    "            \n",
    "    def extract_max(self): # 다운 힙동작\n",
    "        n = len(self.data)\n",
    "        max_element = self.data[0]\n",
    "        self.data[0] = self.data[n-1] # 가장 끝에있는 원소를 내림\n",
    "        self.data = self.data[:n-1]\n",
    "        self.__max_heapify__(0)\n",
    "        \n",
    "        return max_element #이러고나면 8이 나오고 그다음 큰 값이 맨 위로 올라간다.\n",
    "        \n",
    "    def insert(self, item):#업힙 동작\n",
    "        i = len(self.data)\n",
    "        self.data.append(item)\n",
    "        while ( i!=0) and item > self.data[self.parent(i)]:\n",
    "#             print(self.data)\n",
    "            self.data[i] = self.data[self.parent(i)]\n",
    "            i = self.parent(i)\n",
    "        self.data[i]=item\n",
    "        \n",
    "def test_heapify():\n",
    "    l1 = [1,2,3,4,5,6,7]\n",
    "    h = Heapify(l1) # h 가 생성됨\n",
    "    print(h.extract_max()) #여기서 무조건 8이 나옴 \n",
    "    print(h.extract_max())\n",
    "    print(h.extract_max())\n",
    "    h.insert(9)\n",
    "    print(h.data) # insert 9가 들어가있다.\n",
    "    \n",
    "\n",
    "if __name__ == \"__main__\":\n",
    "    test_heapify()\n",
    "    "
   ]
  },
  {
   "cell_type": "code",
   "execution_count": null,
   "metadata": {},
   "outputs": [],
   "source": []
  }
 ],
 "metadata": {
  "kernelspec": {
   "display_name": "Python 3",
   "language": "python",
   "name": "python3"
  },
  "language_info": {
   "codemirror_mode": {
    "name": "ipython",
    "version": 3
   },
   "file_extension": ".py",
   "mimetype": "text/x-python",
   "name": "python",
   "nbconvert_exporter": "python",
   "pygments_lexer": "ipython3",
   "version": "3.7.6"
  }
 },
 "nbformat": 4,
 "nbformat_minor": 4
}
